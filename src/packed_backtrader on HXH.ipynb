{
 "cells": [
  {
   "cell_type": "code",
   "execution_count": 20,
   "metadata": {},
   "outputs": [],
   "source": [
    "# import packages\n",
    "import pandas as pd\n",
    "import numpy as np\n",
    "import matplotlib.pyplot as plt\n",
    "import seaborn as sns\n",
    "import warnings\n",
    "%matplotlib inline\n",
    "from matplotlib.pylab import rcParams\n",
    "from sklearn.metrics import accuracy_score, precision_score, recall_score, log_loss\n",
    "from bt_classes import my_backtest\n",
    "rcParams['figure.figsize'] = 20,10\n",
    "warnings.filterwarnings('ignore')"
   ]
  },
  {
   "cell_type": "code",
   "execution_count": 7,
   "metadata": {},
   "outputs": [],
   "source": [
    "orig_df = pd.read_csv('../xau_1d_20y.csv') # 读取20年1天的数据\n",
    "orig_df['datetime'] = pd.to_datetime(orig_df['date']) # 转换时间格式\n",
    "orig_df = orig_df.set_index('datetime') # 设置索引\n",
    "\n",
    "df = orig_df.copy() # 拷贝得到待处理数据集\n",
    "df['log_r'] = np.log(df['close']) - np.log(df['open']) # 计算对数收益率\n",
    "df['label'] = np.sign(df['log_r'].shift(-1)) # 得到涨跌情况作为标签\n",
    "df['label'][df['label']==-1] = 0 # 0为跌，1为涨\n",
    "df['label'].fillna(0,inplace=True) # 用0去填充缺失的标签"
   ]
  },
  {
   "cell_type": "code",
   "execution_count": 16,
   "metadata": {},
   "outputs": [],
   "source": [
    "# 失效的衡量：单点不算，而是去度量一个时间窗内的数据，比如说一个时间窗里的收益率、回撤、精确率准确率召回率、最大连续错误、交叉熵、\n",
    "class test_indicator():\n",
    "    def __init__(self, y_true, y_pred):\n",
    "        assert len(y_pred) == len(y_true), f'Length of y is {len(y_pred)} while y_pred {len(y_true)}'\n",
    "        self.y_pred = y_pred\n",
    "        self.y_true = y_true\n",
    "        self.suc_fail, fail_suc = np.array(self.successive_distribution())\n",
    "        # 算这个比例是否要加权？\n",
    "        self.successive_n_failure_rate = None\n",
    "        self.period_entropy = None\n",
    "        self.period_drawback = None\n",
    "        self.volatility = None\n",
    "\n",
    "    def successive_distribution(self):\n",
    "        y_output = self.y_pred\n",
    "        y = self.y_true\n",
    "        continues_suc = 0\n",
    "        continues_fail = 0\n",
    "        result = []\n",
    "        maxx = 0\n",
    "        for i in range(0,len(y_output)):\n",
    "            if y_output[i] == y[i]:\n",
    "                continues_suc+=1\n",
    "                if continues_fail!=0:\n",
    "                    result.append(-continues_fail)\n",
    "                    if continues_fail > maxx:\n",
    "                        maxx = continues_fail\n",
    "                    continues_fail = 0\n",
    "            else:\n",
    "                continues_fail+=1\n",
    "                if continues_suc != 0:\n",
    "                    result.append(continues_suc)\n",
    "                    if continues_suc > maxx:\n",
    "                        maxx = continues_suc\n",
    "                    continues_suc = 0\n",
    "\n",
    "        length = maxx+1\n",
    "        suc_result = [[0] * length for i in range(length)]\n",
    "        fail_result = [[0]*length for i in range(length)]\n",
    "\n",
    "        for i in range(len(result)-1):\n",
    "            if result[i]>0:\n",
    "                suc_result[result[i]][-result[i+1]]+=1\n",
    "            else:\n",
    "                fail_result[-result[i]][result[i+1]]+=1\n",
    "        return suc_result, fail_result\n",
    "\n",
    "    def plot_suc_fail(self):\n",
    "        plt.figure(figsize=(16,10))\n",
    "        suc_result = pd.DataFrame(self.suc_fail).sort_index(ascending=False)\n",
    "        sns.heatmap(suc_result.iloc[:-1,1:],cmap='Blues',annot=True, fmt='.0f')\n",
    "        plt.yticks(rotation=0)\n",
    "        ax = plt.gca()\n",
    "        plt.xlabel('Successive Wrong',fontsize=16)\n",
    "        plt.ylabel('Successive Correct',fontsize=16)\n",
    "        plt.show()\n",
    "        plt.close()\n",
    "\n",
    "    def plot_fail_suc(self):\n",
    "        plt.figure(figsize=(16,10))\n",
    "        fail_result = pd.DataFrame(self.suc_fail).sort_index(ascending=False)\n",
    "        sns.heatmap(fail_result.iloc[:-1,1:],cmap='Blues',annot=True, fmt='.0f')\n",
    "        plt.yticks(rotation=0)\n",
    "        ax = plt.gca()\n",
    "        plt.xlabel('Successive Wrong',fontsize=16)\n",
    "        plt.ylabel('Successive Correct',fontsize=16)\n",
    "        plt.show()\n",
    "        plt.close()\n",
    "\n",
    "    def get_accuracy(self):\n",
    "        return accuracy_score(self.y_true, self.y_pred)\n",
    "\n",
    "    def get_precision(self):\n",
    "        return precision_score(self.y_true, self.y_pred)\n",
    "\n",
    "    def get_recall(self):\n",
    "        return recall_score(self.y_true, self.y_pred)\n",
    "\n",
    "    def get_successive_n_failure_rate(self,n=5):\n",
    "        if n > len(self.suc_fail):\n",
    "            return 0\n",
    "        return self.suc_fail[:,n:].sum() / self.suc_fail.sum()\n",
    "    \n",
    "    def get_entropy(self):\n",
    "        return log_loss(self.y_true, self.y_pred)\n",
    "    \n",
    "    def get_drawback(self):\n",
    "        # TODO: calculate maximum drawback of this phrase.\n",
    "        return 0\n",
    "    def get_volatility(self):\n",
    "        # \n",
    "        return 0"
   ]
  },
  {
   "cell_type": "code",
   "execution_count": 17,
   "metadata": {},
   "outputs": [],
   "source": [
    "y_true = np.random.randint(0,2,10000) # 随机获取1万个0或1\n",
    "y_pred = np.random.randint(0,2,10000)"
   ]
  },
  {
   "cell_type": "code",
   "execution_count": 18,
   "metadata": {},
   "outputs": [],
   "source": [
    "ti = test_indicator(y_true,y_pred)"
   ]
  },
  {
   "cell_type": "code",
   "execution_count": null,
   "metadata": {},
   "outputs": [],
   "source": [
    "ti.suc_fail[:,5:].sum() / ti.suc_fail.sum()"
   ]
  },
  {
   "cell_type": "code",
   "execution_count": null,
   "metadata": {},
   "outputs": [],
   "source": [
    "suc_fail, fail_suc = np.array(ti.successive_distribution())"
   ]
  },
  {
   "cell_type": "code",
   "execution_count": null,
   "metadata": {},
   "outputs": [],
   "source": [
    "ti.plot_suc_fail()"
   ]
  },
  {
   "cell_type": "code",
   "execution_count": 21,
   "metadata": {},
   "outputs": [
    {
     "data": {
      "text/plain": [
       "17.31103454852704"
      ]
     },
     "execution_count": 21,
     "metadata": {},
     "output_type": "execute_result"
    }
   ],
   "source": [
    "ti.get_entropy()"
   ]
  },
  {
   "cell_type": "code",
   "execution_count": null,
   "metadata": {},
   "outputs": [],
   "source": []
  }
 ],
 "metadata": {
  "kernelspec": {
   "display_name": "Python 3",
   "language": "python",
   "name": "python3"
  },
  "language_info": {
   "codemirror_mode": {
    "name": "ipython",
    "version": 3
   },
   "file_extension": ".py",
   "mimetype": "text/x-python",
   "name": "python",
   "nbconvert_exporter": "python",
   "pygments_lexer": "ipython3",
   "version": "3.6.3"
  }
 },
 "nbformat": 4,
 "nbformat_minor": 2
}
