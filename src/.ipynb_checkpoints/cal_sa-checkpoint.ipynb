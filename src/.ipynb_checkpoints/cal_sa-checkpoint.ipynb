{
 "cells": [
  {
   "cell_type": "code",
   "execution_count": 1,
   "metadata": {
    "pycharm": {
     "is_executing": false
    }
   },
   "outputs": [],
   "source": [
    "# import packages\n",
    "import pandas as pd\n",
    "import numpy as np\n",
    "from sklearn.preprocessing import StandardScaler\n",
    "from itertools import chain"
   ]
  },
  {
   "cell_type": "code",
   "execution_count": 2,
   "metadata": {},
   "outputs": [],
   "source": [
    "df = pd.read_csv('../res/input0130.csv')"
   ]
  },
  {
   "cell_type": "code",
   "execution_count": 3,
   "metadata": {},
   "outputs": [],
   "source": [
    "scaler = StandardScaler()\n",
    "starter = range(240,len(df)-1000,250)\n",
    "all_results = []\n",
    "all_evas = []\n",
    "y_pred_clf = []\n",
    "all_x_train = []\n",
    "all_x_test = []\n",
    "all_y_train = []\n",
    "all_y_test = []\n",
    "for train_begin in starter:\n",
    "    train_end = train_begin + 750\n",
    "    test_end = train_end + 250\n",
    "    train_set = df[['log_r','label']][train_begin:train_end].reset_index()\n",
    "    x_train, y_train = [], []\n",
    "    x_train_set = list(chain.from_iterable(scaler.fit_transform(train_set['log_r'].values.reshape(-1,1))))\n",
    "    for i in range(240,len(x_train_set)):\n",
    "        x_train.append(x_train_set[i-240:i])\n",
    "        y_train.append(train_set['label'][i])\n",
    "    x_train, y_train = np.array(x_train), np.array(y_train)\n",
    "    x_train = np.reshape(x_train, (x_train.shape[0],x_train.shape[1],1)) \n",
    "    \n",
    "    # model = lstm_model()\n",
    "    # model.fit(x_train,y_train,epochs=100,callbacks=[EarlyStopping(monitor='loss',patience=10)])\n",
    "\n",
    "    x_test, y_test = [], []\n",
    "    test_set = df[['log_r','label']][train_end-240:test_end].reset_index()\n",
    "    x_test_set = list(chain.from_iterable(scaler.transform(test_set['log_r'].values.reshape(-1,1))))\n",
    "    for i in range(240,len(x_test_set)):\n",
    "        x_test.append(x_test_set[i-240:i])\n",
    "        y_test.append(test_set['label'][i])\n",
    "    x_test, y_test = np.array(x_test), np.array(y_test)\n",
    "    x_test = np.reshape(x_test, (x_test.shape[0],x_test.shape[1],1)) \n",
    "    all_x_train.append(x_train)\n",
    "    all_y_train.append(y_train)\n",
    "    all_x_test.append(x_test)\n",
    "    all_y_test.append(y_test)\n",
    "\n",
    "    # all_results.append(model.predict(x_test))\n",
    "    # all_evas.append(model.evaluate(x_test, y_test))\n",
    "    # y_pred_clf.append(model.predict_classes(x_test))\n",
    "    "
   ]
  },
  {
   "cell_type": "code",
   "execution_count": 30,
   "metadata": {},
   "outputs": [],
   "source": [
    "from tqdm import tqdm\n",
    "from keras.models import load_model, Model\n",
    "from sa import *\n",
    "from utils import *\n"
   ]
  },
  {
   "cell_type": "code",
   "execution_count": 31,
   "metadata": {},
   "outputs": [
    {
     "name": "stdout",
     "output_type": "stream",
     "text": [
      "_________________________________________________________________\n",
      "Layer (type)                 Output Shape              Param #   \n",
      "=================================================================\n",
      "lstm_1 (LSTM)                (None, 240, 42)           7392      \n",
      "_________________________________________________________________\n",
      "lstm_2 (LSTM)                (None, 17)                4080      \n",
      "_________________________________________________________________\n",
      "dropout_1 (Dropout)          (None, 17)                0         \n",
      "_________________________________________________________________\n",
      "dense_1 (Dense)              (None, 2)                 36        \n",
      "=================================================================\n",
      "Total params: 11,508\n",
      "Trainable params: 11,508\n",
      "Non-trainable params: 0\n",
      "_________________________________________________________________\n"
     ]
    }
   ],
   "source": [
    "model = load_model('lstm_imp.h5')\n",
    "default_upper_bound = 2000\n",
    "default_n_bucket = 1000\n",
    "default_n_classes = 2\n",
    "class Args(): #创建一个类\n",
    "    def __init__(self): #定义初始化信息。\n",
    "        self.is_classification = True\n",
    "        self.save_path = './tmp/'\n",
    "        self.d = 'lstm_imp'\n",
    "        self.num_classes = 2\n",
    "        self.lsa = True\n",
    "        self.dsa = True\n",
    "        self.target = 'none'\n",
    "        self.batch_size = 8\n",
    "        self.var_threshold = 1e-5\n",
    "        self.upper_bound = 2000\n",
    "        self.n_bucket = 1000\n",
    "        self.num_classes = 10\n",
    "        self.is_classification = True\n",
    "args = Args()\n",
    "model.summary()"
   ]
  },
  {
   "cell_type": "code",
   "execution_count": 32,
   "metadata": {},
   "outputs": [],
   "source": [
    "layer_names = ['lstm_1']"
   ]
  },
  {
   "cell_type": "code",
   "execution_count": 33,
   "metadata": {},
   "outputs": [
    {
     "name": "stdout",
     "output_type": "stream",
     "text": [
      "Found saved train ATs, skip serving\n",
      "Found saved test ATs, skip serving\n"
     ]
    },
    {
     "ename": "KeyError",
     "evalue": "2",
     "output_type": "error",
     "traceback": [
      "\u001b[1;31m---------------------------------------------------------------------------\u001b[0m",
      "\u001b[1;31mKeyError\u001b[0m                                  Traceback (most recent call last)",
      "\u001b[1;32m<ipython-input-33-a739c78e0bf3>\u001b[0m in \u001b[0;36m<module>\u001b[1;34m\u001b[0m\n\u001b[1;32m----> 1\u001b[1;33m \u001b[0mtest_lsa\u001b[0m \u001b[1;33m=\u001b[0m \u001b[0mfetch_lsa\u001b[0m\u001b[1;33m(\u001b[0m\u001b[0mmodel\u001b[0m\u001b[1;33m,\u001b[0m \u001b[0mx_train\u001b[0m\u001b[1;33m,\u001b[0m \u001b[0mx_test\u001b[0m\u001b[1;33m,\u001b[0m \u001b[1;34m\"test\"\u001b[0m\u001b[1;33m,\u001b[0m \u001b[0mlayer_names\u001b[0m\u001b[1;33m,\u001b[0m \u001b[0margs\u001b[0m\u001b[1;33m)\u001b[0m\u001b[1;33m\u001b[0m\u001b[0m\n\u001b[0m\u001b[0;32m      2\u001b[0m \u001b[0mtarget_lsa\u001b[0m \u001b[1;33m=\u001b[0m \u001b[0mfetch_lsa\u001b[0m\u001b[1;33m(\u001b[0m\u001b[0mmodel\u001b[0m\u001b[1;33m,\u001b[0m \u001b[0mx_train\u001b[0m\u001b[1;33m,\u001b[0m \u001b[0mx_test\u001b[0m\u001b[1;33m,\u001b[0m \u001b[1;34m\"target\"\u001b[0m\u001b[1;33m,\u001b[0m \u001b[0mlayer_names\u001b[0m\u001b[1;33m,\u001b[0m \u001b[0margs\u001b[0m\u001b[1;33m)\u001b[0m\u001b[1;33m\u001b[0m\u001b[0m\n\u001b[0;32m      3\u001b[0m \u001b[1;31m# target_lsa = fetch_lsa(model, x_train, x_target, args.target, layer_names, args)\u001b[0m\u001b[1;33m\u001b[0m\u001b[1;33m\u001b[0m\u001b[0m\n\u001b[0;32m      4\u001b[0m target_cov = get_sc(\n\u001b[0;32m      5\u001b[0m     \u001b[0mnp\u001b[0m\u001b[1;33m.\u001b[0m\u001b[0mamin\u001b[0m\u001b[1;33m(\u001b[0m\u001b[0mtarget_lsa\u001b[0m\u001b[1;33m)\u001b[0m\u001b[1;33m,\u001b[0m \u001b[0mdefault_upper_bound\u001b[0m\u001b[1;33m,\u001b[0m \u001b[0mdefault_n_bucket\u001b[0m\u001b[1;33m,\u001b[0m \u001b[0mtarget_lsa\u001b[0m\u001b[1;33m\u001b[0m\u001b[0m\n",
      "\u001b[1;32mE:\\学习\\双创\\项目源\\1218\\src\\sa.py\u001b[0m in \u001b[0;36mfetch_lsa\u001b[1;34m(model, x_train, x_target, target_name, layer_names, args)\u001b[0m\n\u001b[0;32m    322\u001b[0m                 \u001b[0mclass_matrix\u001b[0m\u001b[1;33m[\u001b[0m\u001b[0mlabel\u001b[0m\u001b[1;33m]\u001b[0m \u001b[1;33m=\u001b[0m \u001b[1;33m[\u001b[0m\u001b[1;33m]\u001b[0m\u001b[1;33m\u001b[0m\u001b[0m\n\u001b[0;32m    323\u001b[0m             \u001b[0mclass_matrix\u001b[0m\u001b[1;33m[\u001b[0m\u001b[0mlabel\u001b[0m\u001b[1;33m]\u001b[0m\u001b[1;33m.\u001b[0m\u001b[0mappend\u001b[0m\u001b[1;33m(\u001b[0m\u001b[0mi\u001b[0m\u001b[1;33m)\u001b[0m\u001b[1;33m\u001b[0m\u001b[0m\n\u001b[1;32m--> 324\u001b[1;33m \u001b[1;33m\u001b[0m\u001b[0m\n\u001b[0m\u001b[0;32m    325\u001b[0m     \u001b[0mkdes\u001b[0m\u001b[1;33m,\u001b[0m \u001b[0mremoved_cols\u001b[0m \u001b[1;33m=\u001b[0m \u001b[0m_get_kdes\u001b[0m\u001b[1;33m(\u001b[0m\u001b[0mtrain_ats\u001b[0m\u001b[1;33m,\u001b[0m \u001b[0mtrain_pred\u001b[0m\u001b[1;33m,\u001b[0m \u001b[0mclass_matrix\u001b[0m\u001b[1;33m,\u001b[0m \u001b[0margs\u001b[0m\u001b[1;33m)\u001b[0m\u001b[1;33m\u001b[0m\u001b[0m\n\u001b[0;32m    326\u001b[0m \u001b[1;33m\u001b[0m\u001b[0m\n",
      "\u001b[1;32mE:\\学习\\双创\\项目源\\1218\\src\\sa.py\u001b[0m in \u001b[0;36m_get_kdes\u001b[1;34m(train_ats, train_pred, class_matrix, args)\u001b[0m\n\u001b[0;32m    253\u001b[0m     \u001b[1;32mif\u001b[0m \u001b[0margs\u001b[0m\u001b[1;33m.\u001b[0m\u001b[0mis_classification\u001b[0m\u001b[1;33m:\u001b[0m\u001b[1;33m\u001b[0m\u001b[0m\n\u001b[0;32m    254\u001b[0m         \u001b[1;32mfor\u001b[0m \u001b[0mlabel\u001b[0m \u001b[1;32min\u001b[0m \u001b[0mrange\u001b[0m\u001b[1;33m(\u001b[0m\u001b[0margs\u001b[0m\u001b[1;33m.\u001b[0m\u001b[0mnum_classes\u001b[0m\u001b[1;33m)\u001b[0m\u001b[1;33m:\u001b[0m\u001b[1;33m\u001b[0m\u001b[0m\n\u001b[1;32m--> 255\u001b[1;33m             \u001b[0mprint\u001b[0m\u001b[1;33m(\u001b[0m\u001b[0mlabel\u001b[0m\u001b[1;33m)\u001b[0m\u001b[1;33m\u001b[0m\u001b[0m\n\u001b[0m\u001b[0;32m    256\u001b[0m             \u001b[0mcol_vectors\u001b[0m \u001b[1;33m=\u001b[0m \u001b[0mnp\u001b[0m\u001b[1;33m.\u001b[0m\u001b[0mtranspose\u001b[0m\u001b[1;33m(\u001b[0m\u001b[0mtrain_ats\u001b[0m\u001b[1;33m[\u001b[0m\u001b[0mclass_matrix\u001b[0m\u001b[1;33m[\u001b[0m\u001b[0mlabel\u001b[0m\u001b[1;33m]\u001b[0m\u001b[1;33m]\u001b[0m\u001b[1;33m)\u001b[0m\u001b[1;33m\u001b[0m\u001b[0m\n\u001b[0;32m    257\u001b[0m             \u001b[1;32mfor\u001b[0m \u001b[0mi\u001b[0m \u001b[1;32min\u001b[0m \u001b[0mrange\u001b[0m\u001b[1;33m(\u001b[0m\u001b[0mcol_vectors\u001b[0m\u001b[1;33m.\u001b[0m\u001b[0mshape\u001b[0m\u001b[1;33m[\u001b[0m\u001b[1;36m0\u001b[0m\u001b[1;33m]\u001b[0m\u001b[1;33m)\u001b[0m\u001b[1;33m:\u001b[0m\u001b[1;33m\u001b[0m\u001b[0m\n",
      "\u001b[1;31mKeyError\u001b[0m: 2"
     ]
    }
   ],
   "source": [
    "test_lsa = fetch_lsa(model, x_train, x_test, \"test\", layer_names, args)\n",
    "target_lsa = fetch_lsa(model, x_train, x_test, \"target\", layer_names, args)\n",
    "# target_lsa = fetch_lsa(model, x_train, x_target, args.target, layer_names, args)\n",
    "target_cov = get_sc(\n",
    "    np.amin(target_lsa), default_upper_bound, default_n_bucket, target_lsa\n",
    ")\n",
    "\n",
    "auc = compute_roc_auc(test_lsa, target_lsa)\n",
    "print(infog(\"ROC-AUC: \" + str(auc * 100)))\n",
    "\n",
    "print(infog(\"LSA coverage: \" + str(target_cov)))"
   ]
  },
  {
   "cell_type": "code",
   "execution_count": 25,
   "metadata": {},
   "outputs": [
    {
     "name": "stdout",
     "output_type": "stream",
     "text": [
      "\u001b[94m[train] \u001b[0mModel serving\n",
      "510/510 [==============================] - 1s 2ms/step\n",
      "510/510 [==============================] - 1s 1ms/step\n",
      "\u001b[94m[train] \u001b[0mProcessing ATs\n",
      "Layer: lstm_33\n",
      "\u001b[92mtrain ATs is saved at ./tmp/lstm_r_train_lstm_33_ats.npy\u001b[0m\n",
      "\u001b[94m[test] \u001b[0mModel serving\n",
      "250/250 [==============================] - 0s 2ms/step\n",
      "250/250 [==============================] - 0s 2ms/step\n",
      "\u001b[94m[test] \u001b[0mProcessing ATs\n",
      "Layer: lstm_33\n",
      "\u001b[92mtest ATs is saved at ./tmp/lstm_r_test_lstm_33_ats.npy\u001b[0m\n"
     ]
    }
   ],
   "source": [
    "train_ats, train_pred, target_ats, target_pred = _get_train_target_ats(\n",
    "    model, x_train, x_test, \"test\", layer_names, args\n",
    ")"
   ]
  },
  {
   "cell_type": "code",
   "execution_count": 24,
   "metadata": {},
   "outputs": [
    {
     "name": "stdout",
     "output_type": "stream",
     "text": [
      "\u001b[94m[train] \u001b[0mModel serving\n",
      "510/510 [==============================] - 1s 2ms/step\n",
      "510/510 [==============================] - 1s 1ms/step\n",
      "\u001b[94m[train] \u001b[0mProcessing ATs\n",
      "Layer: lstm_33\n"
     ]
    }
   ],
   "source": [
    "train_ats, train_pred = get_ats(\n",
    "    model,\n",
    "    x_train,\n",
    "    \"train\",\n",
    "    layer_names,\n",
    "    num_classes=args.num_classes,\n",
    "    is_classification=args.is_classification,\n",
    "    save_path='./tmp/savepath',\n",
    ")"
   ]
  },
  {
   "cell_type": "code",
   "execution_count": null,
   "metadata": {},
   "outputs": [],
   "source": []
  },
  {
   "cell_type": "code",
   "execution_count": 28,
   "metadata": {},
   "outputs": [],
   "source": [
    "def fetch_lsa(model, x_train, x_target, target_name, layer_names, args):\n",
    "    \"\"\"Likelihood-based SA\n",
    "\n",
    "    Args:\n",
    "        model (keras model): Subject model.\n",
    "        x_train (list): Set of training inputs.\n",
    "        x_target (list): Set of target (test or[] adversarial) inputs.\n",
    "        target_name (str): Name of target set.\n",
    "        layer_names (list): List of selected layer names.\n",
    "        args: Keyboard args.\n",
    "\n",
    "    Returns:\n",
    "        lsa (list): List of lsa for each target input.\n",
    "    \"\"\"\n",
    "\n",
    "    prefix = info(\"[\" + target_name + \"] \")\n",
    "    train_ats, train_pred, target_ats, target_pred = _get_train_target_ats(\n",
    "        model, x_train, x_target, target_name, layer_names, args\n",
    "    )\n",
    "\n",
    "    class_matrix = {}\n",
    "    if args.is_classification:\n",
    "        for i, label in enumerate(train_pred):\n",
    "            label = label[0]\n",
    "            if label not in class_matrix:\n",
    "                class_matrix[label] = []\n",
    "            class_matrix[label].append(i)\n",
    "\n",
    "    kdes, removed_cols = _get_kdes(train_ats, train_pred, class_matrix, args)\n",
    "\n",
    "    lsa = []\n",
    "    print(prefix + \"Fetching LSA\")\n",
    "    if args.is_classification:\n",
    "        for i, at in enumerate(tqdm(target_ats)):\n",
    "            label = target_pred[i]\n",
    "            kde = kdes[label]\n",
    "            lsa.append(_get_lsa(kde, at, removed_cols))\n",
    "    else:\n",
    "        kde = kdes[0]\n",
    "        for at in tqdm(target_ats):\n",
    "            lsa.append(_get_lsa(kde, at, removed_cols))\n",
    "\n",
    "    return lsa"
   ]
  }
 ],
 "metadata": {
  "file_extension": ".py",
  "kernelspec": {
   "display_name": "Python 3",
   "language": "python",
   "name": "python3"
  },
  "language_info": {
   "codemirror_mode": {
    "name": "ipython",
    "version": 3
   },
   "file_extension": ".py",
   "mimetype": "text/x-python",
   "name": "python",
   "nbconvert_exporter": "python",
   "pygments_lexer": "ipython3",
   "version": "3.6.3"
  },
  "mimetype": "text/x-python",
  "name": "python",
  "npconvert_exporter": "python",
  "pycharm": {
   "stem_cell": {
    "cell_type": "raw",
    "metadata": {
     "collapsed": false
    },
    "source": []
   }
  },
  "pygments_lexer": "ipython3",
  "version": 3
 },
 "nbformat": 4,
 "nbformat_minor": 2
}
