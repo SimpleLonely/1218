{
 "cells": [
  {
   "cell_type": "code",
   "execution_count": 3,
   "metadata": {},
   "outputs": [],
   "source": [
    "from sklearn.cluster import KMeans\n",
    "from sklearn.decomposition import PCA \n",
    "import numpy as np\n",
    "import matplotlib.pyplot as plt"
   ]
  },
  {
   "cell_type": "code",
   "execution_count": 4,
   "metadata": {},
   "outputs": [],
   "source": [
    "def myrand(average,var,sum):\n",
    "    #sampleNo = 10\n",
    "    #mu = 100067.89\n",
    "    #sigma = 800000\n",
    "    mu =average\n",
    "    sigma = var\n",
    "    sampleNo = sum\n",
    "    np.random.seed(0)\n",
    "    s = np.random.normal(mu, sigma, sampleNo)\n",
    "    a = []\n",
    "    for i in range(len(s)):\n",
    "        val = s[i]\n",
    "        while val < 0:\n",
    "            h = np.random.normal(mu, sigma, 1)\n",
    "            val = h[0]\n",
    "        val = round(val,2)\n",
    "        a.append(val)\n",
    "    return a"
   ]
  },
  {
   "cell_type": "code",
   "execution_count": 5,
   "metadata": {},
   "outputs": [],
   "source": [
    "def myrand2tran(average,var,sum):\n",
    "    mu =average\n",
    "    sigma = var\n",
    "    sampleNo = sum\n",
    "    np.random.seed(0)\n",
    "    s = np.random.normal(mu, sigma, sampleNo)\n",
    "    a = []\n",
    "    for i in range(len(s)):\n",
    "        val = s[i]\n",
    "        while val < 0:\n",
    "            h = np.random.normal(mu, sigma, 1)\n",
    "            val = h[0]\n",
    "        val = round(val,0)\n",
    "        a.append(val)\n",
    "    return a"
   ]
  },
  {
   "cell_type": "code",
   "execution_count": 78,
   "metadata": {},
   "outputs": [],
   "source": [
    "def buildVirUsers(N):# 创建N个虚拟用户\n",
    "    \n",
    "    # 基础值1-4\n",
    "    Income=[]\n",
    "    AB=[]\n",
    "    CB=[]\n",
    "    sumTransactions=[]\n",
    "    \n",
    "    #用户编号\n",
    "    userid=[]\n",
    "\n",
    "    # 聚类指标1-7\n",
    "    ExpectMoney=[]\n",
    "    ExpectReturn=[]\n",
    "    PlanTime=[]\n",
    "    RiskTol=[]\n",
    "    StoreWill=[]\n",
    "    Financialflex =[]\n",
    "    TransAct=[]\n",
    "    \n",
    "    # 汇总数据集\n",
    "    DataSet=[]\n",
    "    \n",
    "    #生成用户编号\n",
    "    for i in range(N):\n",
    "        userid.append(i+101)\n",
    "    \n",
    "    # 生成基础值1——收入\n",
    "    Income.extend(myrand(100067.89,800000,N))\n",
    "    # 生成基础值2——交易总次数\n",
    "    sumTransactions.extend(myrand2tran(2,6,N))\n",
    "    # 生成基础值3——现余额\n",
    "    CB.extend(myrand(1402150.57,900000,N))\n",
    "    # 生成基础值4——总余额\n",
    "    for i in range(N):\n",
    "        r=np.random.uniform(0.2,1)\n",
    "        ab = CB[i]*r\n",
    "        AB.append(ab)\n",
    "        \n",
    "    seed=[-1,0,1]\n",
    "    \n",
    "    #生成聚类指标1-4\n",
    "    for i in range(N):\n",
    "        r1=np.random.randint(1,10)\n",
    "        r2=np.random.randint(1,10)\n",
    "        r3=np.random.randint(1,10)\n",
    "        r4=r2+np.random.choice(seed)\n",
    "        if r4>10:\n",
    "            r4=r4-1\n",
    "        elif r4<1:\n",
    "            r4=r4+1\n",
    "        ExpectMoney.append(r1)\n",
    "        ExpectReturn.append(r2)\n",
    "        PlanTime.append(r3)\n",
    "        RiskTol.append(r4)\n",
    "        \n",
    "    maxTran = max (sumTransactions)\n",
    "    minTran = min (sumTransactions)\n",
    "    diff = maxTran - minTran\n",
    "    \n",
    "    #生成聚类指标5-7\n",
    "    for i in range(N):\n",
    "        #资金灵活性\n",
    "        financialflex = round(AB[i]/CB[i],2)\n",
    "        Financialflex.append(financialflex)\n",
    "        ##总余额\n",
    "        balance = round(CB[i] + AB[i],2)\n",
    "        ##存储意愿\n",
    "        storewill =round(balance / Income[i] ,2) \n",
    "        StoreWill.append(storewill)\n",
    "        ##交易活跃度\n",
    "        transact = (sumTransactions[i]-minTran)/ diff\n",
    "        TransAct.append(round(transact,2))\n",
    "        \n",
    "    for i in range(N):\n",
    "        temp=[]\n",
    "        temp.append(userid[i])\n",
    "        temp.append(TransAct[i])\n",
    "        temp.append(StoreWill[i])\n",
    "        temp.append(Financialflex[i])\n",
    "        temp.append(ExpectMoney[i])\n",
    "        temp.append(ExpectReturn[i])\n",
    "        temp.append(PlanTime[i])\n",
    "        temp.append(RiskTol[i])\n",
    "        DataSet.append(temp)\n",
    "        \n",
    "    return DataSet"
   ]
  },
  {
   "cell_type": "code",
   "execution_count": 99,
   "metadata": {},
   "outputs": [],
   "source": [
    "def myKMeans(DataSet):\n",
    "    maxtimes =30\n",
    "    model=KMeans(n_clusters=5, max_iter=maxtimes, random_state=0).fit(DataSet)\n",
    "    y_pred = model.labels_\n",
    "    ###展示聚类结果\n",
    "    #print(y_pred)\n",
    "    pca=PCA(n_components=2)\n",
    "    newData=pca.fit_transform(DataSet)\n",
    "    color = ['HotPink', 'Black', 'Chartreuse', 'red', 'darkorange', 'yellow', 'blue']\n",
    "    colors=np.array(color)[y_pred]\n",
    "    plt.scatter(newData[:, 0], newData[:, 1], c=colors)\n",
    "    ###展示聚类效果图\n",
    "    plt.show()\n",
    "    return model"
   ]
  },
  {
   "cell_type": "code",
   "execution_count": 112,
   "metadata": {},
   "outputs": [],
   "source": [
    "def getRidOfId(DataSet):\n",
    "    New = []\n",
    "    for i in range(len(DataSet)):\n",
    "        tmp = DataSet[i]\n",
    "        New.append(tmp[1:])\n",
    "    return New"
   ]
  },
  {
   "cell_type": "code",
   "execution_count": 153,
   "metadata": {},
   "outputs": [],
   "source": [
    "def myKMeans(DataSetWithOutId):\n",
    "    maxtimes =30\n",
    "    model=KMeans(n_clusters=5, max_iter=maxtimes, random_state=0).fit(DataSetWithOutId)\n",
    "    y_pred = model.labels_\n",
    "    ###展示聚类结果\n",
    "    pca=PCA(n_components=2)\n",
    "    newData=pca.fit_transform(DataSetWithOutId)\n",
    "    return model"
   ]
  },
  {
   "cell_type": "code",
   "execution_count": 156,
   "metadata": {},
   "outputs": [],
   "source": [
    "def showNeighbors(N, mymodel, sample, DataSet, DataSetWithOutId):\n",
    "    s=[]\n",
    "    s.append(sample)\n",
    "    label = mymodel.predict(s)\n",
    "    res=[]\n",
    "    for i in range(N):\n",
    "        t=[]\n",
    "        t.append(DataSetWithOutId[i])\n",
    "        temp = mymodel.predict(t)\n",
    "        if temp == label:\n",
    "            res.append(DataSet[i][0])\n",
    "    return res"
   ]
  },
  {
   "cell_type": "code",
   "execution_count": 158,
   "metadata": {},
   "outputs": [],
   "source": [
    "DataSet = buildVirUsers(30)\n",
    "# print(DataSet)\n",
    "DataSetWithOutId = getRidOfId(DataSet)\n",
    "# print(DataSetWithOutId)\n",
    "mymodel = myKMeans(DataSetWithOutId)\n",
    "sample = [0.8,28.02,1.0,1,2,3,1]\n",
    "a = showNeighbors(30, mymodel,sample, DataSet, DataSetWithOutId)"
   ]
  },
  {
   "cell_type": "code",
   "execution_count": 201,
   "metadata": {},
   "outputs": [],
   "source": [
    "def myKMeans(DataSet):\n",
    "    \n",
    "    N = len(DataSet)\n",
    "    \n",
    "    DataSetWithOutId = []\n",
    "    NewDataSet = []\n",
    "    \n",
    "    # 生成单纯聚类数据集和带有userid的新数据集\n",
    "    for i in range(len(DataSet)):\n",
    "        tmp = DataSet[i]\n",
    "        DataSetWithOutId.append(tmp[1:])\n",
    "        Ntmp=[tmp[0]]\n",
    "        NewDataSet.append(Ntmp)\n",
    "    \n",
    "    maxtimes =3000\n",
    "    mymodel=KMeans(n_clusters=5, max_iter=maxtimes, random_state=0).fit(DataSetWithOutId)\n",
    "    \n",
    "    for i in range(N):\n",
    "        s=[]\n",
    "        s.append(DataSetWithOutId[i])\n",
    "        label = mymodel.predict(s)\n",
    "        NewDataSet[i].append(int(label))\n",
    "        res=[]\n",
    "        count = 0\n",
    "        for j in range(N):\n",
    "            if count == 5:\n",
    "                break\n",
    "            t=[]\n",
    "            t.append(DataSetWithOutId[j])\n",
    "            temp = mymodel.predict(t)\n",
    "            if temp == label and i != j:\n",
    "                res.append(DataSet[j][0])\n",
    "                count = count + 1\n",
    "        while count != 5:\n",
    "            res.append(-1)\n",
    "            count = count + 1\n",
    "        NewDataSet[i] = NewDataSet[i] + res\n",
    "    return NewDataSet  \n",
    "        "
   ]
  },
  {
   "cell_type": "code",
   "execution_count": 204,
   "metadata": {
    "scrolled": true
   },
   "outputs": [
    {
     "name": "stdout",
     "output_type": "stream",
     "text": [
      "[[101, 0.8, 2.94, 0.49, 4, 3, 1, 3], [102, 0.2, 6.5, 0.55, 1, 3, 8, 4], [103, 0.47, 4.55, 0.76, 3, 4, 4, 5], [104, 0.93, 2.25, 0.25, 4, 5, 2, 6], [105, 0.8, 3.35, 0.73, 2, 5, 7, 4], [106, 0.13, 4.05, 0.74, 3, 4, 1, 3], [107, 0.47, 3.59, 0.37, 7, 1, 7, 2], [108, 0.0, 4.1, 0.3, 4, 9, 9, 9], [109, 0.0, 108.7, 0.45, 9, 3, 4, 4], [110, 0.2, 6.16, 0.49, 3, 1, 9, 1], [111, 0.13, 11.78, 0.66, 4, 9, 3, 8], [112, 0.67, 3.33, 0.55, 5, 4, 1, 3], [113, 0.4, 5.86, 0.99, 4, 7, 9, 6], [114, 0.13, 9.81, 0.28, 9, 6, 1, 5], [115, 0.27, 5.41, 0.37, 7, 6, 4, 6], [116, 0.2, 6.17, 0.33, 9, 1, 5, 1], [117, 0.67, 3.65, 0.72, 7, 6, 8, 5], [118, 0.0, 7.58, 0.4, 9, 3, 9, 4], [119, 0.2, 7.56, 0.57, 7, 2, 7, 1], [120, 0.2, 0.82, 0.4, 9, 9, 4, 10], [121, 0.13, 1.93, 0.33, 4, 7, 4, 8], [122, 0.33, 4.12, 0.29, 6, 8, 1, 7], [123, 0.4, 4.75, 0.73, 5, 7, 6, 7], [124, 0.53, 0.58, 0.31, 9, 3, 4, 3], [125, 1.0, 2.44, 0.36, 8, 6, 4, 7], [126, 0.53, 0.19, 0.49, 5, 6, 4, 6], [127, 0.07, 19.61, 0.86, 8, 4, 3, 3], [128, 0.0, 3.85, 0.28, 4, 8, 8, 8], [129, 0.67, 3.92, 0.87, 6, 2, 3, 3], [130, 0.67, 2.73, 0.28, 9, 2, 6, 1]]\n"
     ]
    },
    {
     "data": {
      "text/plain": [
       "[[101, 0, 103, 104, 105, 106, 112],\n",
       " [102, 2, 107, 110, 116, 118, 119],\n",
       " [103, 0, 101, 104, 105, 106, 112],\n",
       " [104, 0, 101, 103, 105, 106, 112],\n",
       " [105, 0, 101, 103, 104, 106, 112],\n",
       " [106, 0, 101, 103, 104, 105, 112],\n",
       " [107, 2, 102, 110, 116, 118, 119],\n",
       " [108, 3, 113, 115, 117, 120, 121],\n",
       " [109, 1, -1, -1, -1, -1, -1],\n",
       " [110, 2, 102, 107, 116, 118, 119],\n",
       " [111, 4, 114, 127, -1, -1, -1],\n",
       " [112, 0, 101, 103, 104, 105, 106],\n",
       " [113, 3, 108, 115, 117, 120, 121],\n",
       " [114, 4, 111, 127, -1, -1, -1],\n",
       " [115, 3, 108, 113, 117, 120, 121],\n",
       " [116, 2, 102, 107, 110, 118, 119],\n",
       " [117, 3, 108, 113, 115, 120, 121],\n",
       " [118, 2, 102, 107, 110, 116, 119],\n",
       " [119, 2, 102, 107, 110, 116, 118],\n",
       " [120, 3, 108, 113, 115, 117, 121],\n",
       " [121, 3, 108, 113, 115, 117, 120],\n",
       " [122, 3, 108, 113, 115, 117, 120],\n",
       " [123, 3, 108, 113, 115, 117, 120],\n",
       " [124, 0, 101, 103, 104, 105, 106],\n",
       " [125, 3, 108, 113, 115, 117, 120],\n",
       " [126, 3, 108, 113, 115, 117, 120],\n",
       " [127, 4, 111, 114, -1, -1, -1],\n",
       " [128, 3, 108, 113, 115, 117, 120],\n",
       " [129, 0, 101, 103, 104, 105, 106],\n",
       " [130, 2, 102, 107, 110, 116, 118]]"
      ]
     },
     "execution_count": 204,
     "metadata": {},
     "output_type": "execute_result"
    }
   ],
   "source": [
    "myKMeans(DataSet)"
   ]
  },
  {
   "cell_type": "code",
   "execution_count": 218,
   "metadata": {},
   "outputs": [],
   "source": [
    "def get_data():\n",
    "    import pymysql\n",
    "    conn = pymysql.connect(host='47.106.153.201', user='root', passwd=\"081337\", db='ff')\n",
    "    cur = conn.cursor()\n",
    "    cur.execute(\"select TypeOfUser,userid,ExpectMoney,ExpectReturn,PlanTime,RiskTol,StoreWill,Financialflex,TransAct from user_factor;\")\n",
    "    data=[]\n",
    "    for i in cur:\n",
    "        data.append(i)\n",
    "    cur.close()\n",
    "    conn.close()\n",
    "    return data"
   ]
  },
  {
   "cell_type": "code",
   "execution_count": 215,
   "metadata": {},
   "outputs": [],
   "source": [
    "sqlData = get_data()\n",
    "result = myKMeans(sqlData)"
   ]
  },
  {
   "cell_type": "code",
   "execution_count": 216,
   "metadata": {},
   "outputs": [],
   "source": [
    "def save_result(result):\n",
    "    #result=[[101,1,1,1,1,1,1],[102,2,2,2,2,2,2]]\n",
    "    import pymysql\n",
    "    conn = pymysql.connect(host='47.106.153.201', user='root', passwd=\"081337\", db='ff')\n",
    "    cur = conn.cursor()\n",
    "    for i in result:\n",
    "        cur.execute(\"update user_factor set TypeOfUser=\"+str(i[1])+\",SimilarUser1=\"+str(i[2])+\",SimilarUser2=\"+str(i[3])+\",SimilarUser3=\"+str(i[4])+\",SimilarUser4=\"+str(i[5])+\",SimilarUser5=\"+str(i[6])+\" where userid=\"+str(i[0])+\";\")\n",
    "    cur.close()\n",
    "    conn.close()"
   ]
  },
  {
   "cell_type": "code",
   "execution_count": 217,
   "metadata": {},
   "outputs": [],
   "source": [
    "save_result(result)"
   ]
  }
 ],
 "metadata": {
  "kernelspec": {
   "display_name": "Python 3",
   "language": "python",
   "name": "python3"
  },
  "language_info": {
   "codemirror_mode": {
    "name": "ipython",
    "version": 3
   },
   "file_extension": ".py",
   "mimetype": "text/x-python",
   "name": "python",
   "nbconvert_exporter": "python",
   "pygments_lexer": "ipython3",
   "version": "3.6.3"
  }
 },
 "nbformat": 4,
 "nbformat_minor": 1
}
