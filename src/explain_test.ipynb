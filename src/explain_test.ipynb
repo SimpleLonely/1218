{
 "metadata": {
  "language_info": {
   "codemirror_mode": {
    "name": "ipython",
    "version": 3
   },
   "file_extension": ".py",
   "mimetype": "text/x-python",
   "name": "python",
   "nbconvert_exporter": "python",
   "pygments_lexer": "ipython3",
   "version": "3.7.5-final"
  },
  "orig_nbformat": 2,
  "kernelspec": {
   "name": "python37564bitinnocondac6c0adcf834a42938fa02ac328c764a8",
   "display_name": "Python 3.7.5 64-bit ('inno': conda)"
  }
 },
 "nbformat": 4,
 "nbformat_minor": 2,
 "cells": [
  {
   "cell_type": "code",
   "execution_count": 1,
   "metadata": {},
   "outputs": [
    {
     "output_type": "stream",
     "name": "stderr",
     "text": [
      "Using TensorFlow backend.\n"
     ]
    }
   ],
   "source": [
    "import pandas as pd \n",
    "import numpy as np \n",
    "import matplotlib.pyplot as plt\n",
    "# import lightgbm as lgb\n",
    "import warnings\n",
    "warnings.filterwarnings('ignore')\n",
    "from sklearn import preprocessing\n",
    "import tensorflow as tf\n",
    "from keras.backend.tensorflow_backend import set_session\n",
    "config = tf.ConfigProto()\n",
    "config.gpu_options.allow_growth = True\n",
    "set_session(tf.Session(config=config))\n",
    "\n",
    "# from tensorflow import keras\n",
    "import keras\n",
    "from keras.models import Sequential, load_model\n",
    "from keras.utils import np_utils\n",
    "from keras.layers.embeddings import Embedding\n",
    "from keras.layers.core import Reshape\n",
    "from keras.layers.core import Dense, Activation, Dropout\n",
    "# from keras.layers.cudnn_recurrent import CuDNNLSTM\n",
    "from sklearn import preprocessing\n",
    "from keras.utils import to_categorical\n",
    "from keras.callbacks import EarlyStopping\n",
    "from keras import backend as K\n",
    "\n",
    "from sklearn.preprocessing import StandardScaler\n",
    "scaler = StandardScaler()\n",
    "yscaler = StandardScaler()"
   ]
  },
  {
   "cell_type": "code",
   "execution_count": 2,
   "metadata": {},
   "outputs": [
    {
     "output_type": "stream",
     "name": "stdout",
     "text": [
      "WARNING:tensorflow:From D:\\Anaconda3\\envs\\inno\\lib\\site-packages\\keras\\backend\\tensorflow_backend.py:422: The name tf.global_variables is deprecated. Please use tf.compat.v1.global_variables instead.\n\n"
     ]
    }
   ],
   "source": [
    "close_df = pd.read_csv('../res/close_df.csv',index_col=0)\n",
    "close_df.head()\n",
    "\n",
    "df = np.log(close_df).diff()\n",
    "target = df['XAU'].iloc[2:].values\n",
    "features = df.iloc[1:-1].values\n",
    "\n",
    "train_val_split = 6000\n",
    "train_test_split = 7500\n",
    "\n",
    "X_train = scaler.fit_transform(features[:train_val_split])\n",
    "y_train = target[:train_val_split].reshape(-1,1)\n",
    "\n",
    "X_val = scaler.transform(features[train_val_split:train_test_split])\n",
    "y_val = target[train_val_split:train_test_split].reshape(-1,1)\n",
    "\n",
    "X_test = scaler.transform(features[train_test_split:])\n",
    "y_test = target[train_test_split:].reshape(-1,1)\n",
    "\n",
    "def return_loss(y_true, y_pred):\n",
    "    # pos = K.sign(y_pred)\n",
    "    loss = -K.mean(y_pred * y_true)\n",
    "    return loss\n",
    "\n",
    "model = load_model('dnn_32_16.h5',custom_objects={'return_loss':return_loss})"
   ]
  },
  {
   "cell_type": "code",
   "execution_count": 11,
   "metadata": {},
   "outputs": [],
   "source": [
    "# On the test set\n",
    "test_df = pd.DataFrame()\n",
    "test_df['y_true'] = y_test.flatten()\n",
    "test_df['y_pred'] = model.predict(X_test).flatten()\n",
    "test_df['label_true'] = test_df['y_true'].apply(lambda x: 1 if x > 0 else 0)\n",
    "test_df['label_pred'] = test_df['y_pred'].apply(lambda x: 1 if x > 0 else 0)\n",
    "test_df['correct'] = 1\n",
    "test_df['correct'][test_df['label_true']!=test_df['label_pred']] = 0\n",
    "\n",
    "# Part 2 区域性失效：给定窗口，收益不及预期\n",
    "window = 50\n",
    "step = 20\n",
    "test_df['exp_rt'] = test_df['y_true'].rolling(window).sum() \n",
    "test_df['exp_rt'][test_df['exp_rt']<0] = 0\n",
    "test_df['real_rt'] = (test_df['correct'].apply(lambda x: x if x == 1 else -1) * test_df['y_true']).rolling(window).sum()\n",
    "test_df['fail'] = test_df[['exp_rt','real_rt']].apply(lambda x: 1 if x['real_rt']<x['exp_rt'] else 0,axis=1)"
   ]
  },
  {
   "cell_type": "code",
   "execution_count": 9,
   "metadata": {},
   "outputs": [
    {
     "output_type": "execute_result",
     "data": {
      "text/plain": [
       "         NC       KMN      TKNC       LSA       DSA\n",
       "0  0.209581  0.786078  0.895980  0.058724  0.370563\n",
       "1  0.361987  0.559075  0.613292  0.656974  0.321143\n",
       "2  0.484138  0.065022  0.100501  0.460190  0.159362\n",
       "3  0.306133  0.898114  0.733539  0.159541  0.176551\n",
       "4  0.670294  0.975508  0.376054  0.567480  0.060587"
      ],
      "text/html": "<div>\n<style scoped>\n    .dataframe tbody tr th:only-of-type {\n        vertical-align: middle;\n    }\n\n    .dataframe tbody tr th {\n        vertical-align: top;\n    }\n\n    .dataframe thead th {\n        text-align: right;\n    }\n</style>\n<table border=\"1\" class=\"dataframe\">\n  <thead>\n    <tr style=\"text-align: right;\">\n      <th></th>\n      <th>NC</th>\n      <th>KMN</th>\n      <th>TKNC</th>\n      <th>LSA</th>\n      <th>DSA</th>\n    </tr>\n  </thead>\n  <tbody>\n    <tr>\n      <th>0</th>\n      <td>0.209581</td>\n      <td>0.786078</td>\n      <td>0.895980</td>\n      <td>0.058724</td>\n      <td>0.370563</td>\n    </tr>\n    <tr>\n      <th>1</th>\n      <td>0.361987</td>\n      <td>0.559075</td>\n      <td>0.613292</td>\n      <td>0.656974</td>\n      <td>0.321143</td>\n    </tr>\n    <tr>\n      <th>2</th>\n      <td>0.484138</td>\n      <td>0.065022</td>\n      <td>0.100501</td>\n      <td>0.460190</td>\n      <td>0.159362</td>\n    </tr>\n    <tr>\n      <th>3</th>\n      <td>0.306133</td>\n      <td>0.898114</td>\n      <td>0.733539</td>\n      <td>0.159541</td>\n      <td>0.176551</td>\n    </tr>\n    <tr>\n      <th>4</th>\n      <td>0.670294</td>\n      <td>0.975508</td>\n      <td>0.376054</td>\n      <td>0.567480</td>\n      <td>0.060587</td>\n    </tr>\n  </tbody>\n</table>\n</div>"
     },
     "metadata": {},
     "execution_count": 9
    }
   ],
   "source": [
    "# Assume that we obtain testing criteria here\n",
    "cri_df = pd.DataFrame(np.random.random((len(test_df),5)),columns=['NC','KMN','TKNC','LSA','DSA'])\n",
    "cri_df.head()"
   ]
  },
  {
   "cell_type": "code",
   "execution_count": 12,
   "metadata": {},
   "outputs": [
    {
     "output_type": "execute_result",
     "data": {
      "text/plain": [
       "     y_true    y_pred  label_true  label_pred  correct  exp_rt  real_rt  fail  \\\n",
       "0  0.013006 -0.995699           1           0        0     NaN      NaN     0   \n",
       "1  0.004298  0.999448           1           1        1     NaN      NaN     0   \n",
       "2 -0.008092  0.990847           0           1        0     NaN      NaN     0   \n",
       "3 -0.006732 -0.962627           0           0        1     NaN      NaN     0   \n",
       "4 -0.006475 -0.999999           0           0        1     NaN      NaN     0   \n",
       "\n",
       "         NC       KMN      TKNC       LSA       DSA  \n",
       "0  0.209581  0.786078  0.895980  0.058724  0.370563  \n",
       "1  0.361987  0.559075  0.613292  0.656974  0.321143  \n",
       "2  0.484138  0.065022  0.100501  0.460190  0.159362  \n",
       "3  0.306133  0.898114  0.733539  0.159541  0.176551  \n",
       "4  0.670294  0.975508  0.376054  0.567480  0.060587  "
      ],
      "text/html": "<div>\n<style scoped>\n    .dataframe tbody tr th:only-of-type {\n        vertical-align: middle;\n    }\n\n    .dataframe tbody tr th {\n        vertical-align: top;\n    }\n\n    .dataframe thead th {\n        text-align: right;\n    }\n</style>\n<table border=\"1\" class=\"dataframe\">\n  <thead>\n    <tr style=\"text-align: right;\">\n      <th></th>\n      <th>y_true</th>\n      <th>y_pred</th>\n      <th>label_true</th>\n      <th>label_pred</th>\n      <th>correct</th>\n      <th>exp_rt</th>\n      <th>real_rt</th>\n      <th>fail</th>\n      <th>NC</th>\n      <th>KMN</th>\n      <th>TKNC</th>\n      <th>LSA</th>\n      <th>DSA</th>\n    </tr>\n  </thead>\n  <tbody>\n    <tr>\n      <th>0</th>\n      <td>0.013006</td>\n      <td>-0.995699</td>\n      <td>1</td>\n      <td>0</td>\n      <td>0</td>\n      <td>NaN</td>\n      <td>NaN</td>\n      <td>0</td>\n      <td>0.209581</td>\n      <td>0.786078</td>\n      <td>0.895980</td>\n      <td>0.058724</td>\n      <td>0.370563</td>\n    </tr>\n    <tr>\n      <th>1</th>\n      <td>0.004298</td>\n      <td>0.999448</td>\n      <td>1</td>\n      <td>1</td>\n      <td>1</td>\n      <td>NaN</td>\n      <td>NaN</td>\n      <td>0</td>\n      <td>0.361987</td>\n      <td>0.559075</td>\n      <td>0.613292</td>\n      <td>0.656974</td>\n      <td>0.321143</td>\n    </tr>\n    <tr>\n      <th>2</th>\n      <td>-0.008092</td>\n      <td>0.990847</td>\n      <td>0</td>\n      <td>1</td>\n      <td>0</td>\n      <td>NaN</td>\n      <td>NaN</td>\n      <td>0</td>\n      <td>0.484138</td>\n      <td>0.065022</td>\n      <td>0.100501</td>\n      <td>0.460190</td>\n      <td>0.159362</td>\n    </tr>\n    <tr>\n      <th>3</th>\n      <td>-0.006732</td>\n      <td>-0.962627</td>\n      <td>0</td>\n      <td>0</td>\n      <td>1</td>\n      <td>NaN</td>\n      <td>NaN</td>\n      <td>0</td>\n      <td>0.306133</td>\n      <td>0.898114</td>\n      <td>0.733539</td>\n      <td>0.159541</td>\n      <td>0.176551</td>\n    </tr>\n    <tr>\n      <th>4</th>\n      <td>-0.006475</td>\n      <td>-0.999999</td>\n      <td>0</td>\n      <td>0</td>\n      <td>1</td>\n      <td>NaN</td>\n      <td>NaN</td>\n      <td>0</td>\n      <td>0.670294</td>\n      <td>0.975508</td>\n      <td>0.376054</td>\n      <td>0.567480</td>\n      <td>0.060587</td>\n    </tr>\n  </tbody>\n</table>\n</div>"
     },
     "metadata": {},
     "execution_count": 12
    }
   ],
   "source": [
    "test_df = pd.concat([test_df,cri_df],axis=1)\n",
    "test_df.head()"
   ]
  },
  {
   "cell_type": "code",
   "execution_count": 18,
   "metadata": {},
   "outputs": [],
   "source": [
    "from statsmodels.discrete.discrete_model import Logit\n",
    "from statsmodels.api import add_constant"
   ]
  },
  {
   "cell_type": "code",
   "execution_count": 19,
   "metadata": {},
   "outputs": [
    {
     "output_type": "stream",
     "name": "stdout",
     "text": [
      "Optimization terminated successfully.\n         Current function value: 0.668161\n         Iterations 4\n"
     ]
    },
    {
     "output_type": "execute_result",
     "data": {
      "text/plain": [
       "<class 'statsmodels.iolib.summary.Summary'>\n",
       "\"\"\"\n",
       "                           Logit Regression Results                           \n",
       "==============================================================================\n",
       "Dep. Variable:                   fail   No. Observations:                  737\n",
       "Model:                          Logit   Df Residuals:                      731\n",
       "Method:                           MLE   Df Model:                            5\n",
       "Date:                Mon, 07 Dec 2020   Pseudo R-squ.:                0.008962\n",
       "Time:                        10:30:33   Log-Likelihood:                -492.43\n",
       "converged:                       True   LL-Null:                       -496.89\n",
       "Covariance Type:            nonrobust   LLR p-value:                    0.1129\n",
       "==============================================================================\n",
       "                 coef    std err          z      P>|z|      [0.025      0.975]\n",
       "------------------------------------------------------------------------------\n",
       "const         -0.8213      0.302     -2.719      0.007      -1.413      -0.229\n",
       "NC            -0.0346      0.274     -0.126      0.900      -0.573       0.503\n",
       "KMN            0.2558      0.259      0.989      0.322      -0.251       0.763\n",
       "TKNC           0.2031      0.261      0.779      0.436      -0.308       0.714\n",
       "LSA            0.6749      0.263      2.564      0.010       0.159       1.191\n",
       "DSA           -0.2415      0.263     -0.917      0.359      -0.758       0.275\n",
       "==============================================================================\n",
       "\"\"\""
      ],
      "text/html": "<table class=\"simpletable\">\n<caption>Logit Regression Results</caption>\n<tr>\n  <th>Dep. Variable:</th>         <td>fail</td>       <th>  No. Observations:  </th>  <td>   737</td> \n</tr>\n<tr>\n  <th>Model:</th>                 <td>Logit</td>      <th>  Df Residuals:      </th>  <td>   731</td> \n</tr>\n<tr>\n  <th>Method:</th>                 <td>MLE</td>       <th>  Df Model:          </th>  <td>     5</td> \n</tr>\n<tr>\n  <th>Date:</th>            <td>Mon, 07 Dec 2020</td> <th>  Pseudo R-squ.:     </th> <td>0.008962</td>\n</tr>\n<tr>\n  <th>Time:</th>                <td>10:30:33</td>     <th>  Log-Likelihood:    </th> <td> -492.43</td>\n</tr>\n<tr>\n  <th>converged:</th>             <td>True</td>       <th>  LL-Null:           </th> <td> -496.89</td>\n</tr>\n<tr>\n  <th>Covariance Type:</th>     <td>nonrobust</td>    <th>  LLR p-value:       </th>  <td>0.1129</td> \n</tr>\n</table>\n<table class=\"simpletable\">\n<tr>\n    <td></td>       <th>coef</th>     <th>std err</th>      <th>z</th>      <th>P>|z|</th>  <th>[0.025</th>    <th>0.975]</th>  \n</tr>\n<tr>\n  <th>const</th> <td>   -0.8213</td> <td>    0.302</td> <td>   -2.719</td> <td> 0.007</td> <td>   -1.413</td> <td>   -0.229</td>\n</tr>\n<tr>\n  <th>NC</th>    <td>   -0.0346</td> <td>    0.274</td> <td>   -0.126</td> <td> 0.900</td> <td>   -0.573</td> <td>    0.503</td>\n</tr>\n<tr>\n  <th>KMN</th>   <td>    0.2558</td> <td>    0.259</td> <td>    0.989</td> <td> 0.322</td> <td>   -0.251</td> <td>    0.763</td>\n</tr>\n<tr>\n  <th>TKNC</th>  <td>    0.2031</td> <td>    0.261</td> <td>    0.779</td> <td> 0.436</td> <td>   -0.308</td> <td>    0.714</td>\n</tr>\n<tr>\n  <th>LSA</th>   <td>    0.6749</td> <td>    0.263</td> <td>    2.564</td> <td> 0.010</td> <td>    0.159</td> <td>    1.191</td>\n</tr>\n<tr>\n  <th>DSA</th>   <td>   -0.2415</td> <td>    0.263</td> <td>   -0.917</td> <td> 0.359</td> <td>   -0.758</td> <td>    0.275</td>\n</tr>\n</table>"
     },
     "metadata": {},
     "execution_count": 19
    }
   ],
   "source": [
    "data = test_df[['NC','KMN','TKNC','LSA','DSA']]\n",
    "data = add_constant(data)\n",
    "logitmodel = Logit(test_df['fail'],data)\n",
    "result = logitmodel.fit()\n",
    "result.summary()"
   ]
  },
  {
   "cell_type": "code",
   "execution_count": null,
   "metadata": {},
   "outputs": [],
   "source": []
  }
 ]
}