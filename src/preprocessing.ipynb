{
 "metadata": {
  "language_info": {
   "codemirror_mode": {
    "name": "ipython",
    "version": 3
   },
   "file_extension": ".py",
   "mimetype": "text/x-python",
   "name": "python",
   "nbconvert_exporter": "python",
   "pygments_lexer": "ipython3",
   "version": "3.7.5-final"
  },
  "orig_nbformat": 2,
  "kernelspec": {
   "name": "python37564bitinnocondac6c0adcf834a42938fa02ac328c764a8",
   "display_name": "Python 3.7.5 64-bit ('inno': conda)"
  }
 },
 "nbformat": 4,
 "nbformat_minor": 2,
 "cells": [
  {
   "cell_type": "code",
   "execution_count": 46,
   "metadata": {},
   "outputs": [],
   "source": [
    "import pandas as pd \n",
    "import numpy as np "
   ]
  },
  {
   "cell_type": "code",
   "execution_count": 4,
   "metadata": {},
   "outputs": [],
   "source": [
    "as_lst = pd.read_csv(\"../res/asset_list.csv\",encoding=\"gbk\")['Symbol'].to_list()"
   ]
  },
  {
   "cell_type": "code",
   "execution_count": 8,
   "metadata": {},
   "outputs": [
    {
     "output_type": "stream",
     "name": "stdout",
     "text": [
      "['XAU', 'IRX', 'FVX', 'TNX', 'TYX', 'IXIC', 'GSPC', 'DJI', 'VIX', 'USDX', 'ZSF', 'ZWF', 'KCU', 'LBN', 'LCC', 'LEQ', 'LRCU', 'LSU', 'NGQ', 'RBQ', 'ZCU']\n"
     ]
    }
   ],
   "source": [
    "print(as_lst)"
   ]
  },
  {
   "cell_type": "code",
   "execution_count": 17,
   "metadata": {},
   "outputs": [],
   "source": [
    "sub_set = ['XAU', 'IRX', 'FVX', 'TNX', 'TYX', 'IXIC', 'GSPC', 'DJI', 'VIX', 'USDX', 'KCU', 'LBN', 'ZCU']\n",
    "as_lst = sub_set"
   ]
  },
  {
   "cell_type": "code",
   "execution_count": 42,
   "metadata": {},
   "outputs": [
    {
     "output_type": "execute_result",
     "data": {
      "text/plain": [
       "                 XAU    IRX    FVX    TNX    TYX          IXIC         GSPC  \\\n",
       "Date                                                                          \n",
       "1978-12-29       226    NaN    NaN    NaN    NaN           NaN          NaN   \n",
       "1979-01-01       226    NaN    NaN    NaN    NaN           NaN          NaN   \n",
       "1979-01-02     226.8  9.410  9.330  9.180  8.990    117.839996    96.730003   \n",
       "1979-01-03     218.6  9.310  9.330  9.160  8.960    119.110001    97.800003   \n",
       "1979-01-04     223.2  9.310  9.270  9.110  8.940    120.660004    98.580002   \n",
       "...              ...    ...    ...    ...    ...           ...          ...   \n",
       "2020-11-06  1,940.80  0.083  0.363  0.820  1.599  11895.230470  3509.439941   \n",
       "2020-11-09       NaN  0.088  0.447  0.958  1.751  11713.780270  3550.500000   \n",
       "2020-11-10       NaN  0.090  0.460  0.972  1.760  11553.860350  3545.530029   \n",
       "2020-11-11       NaN  0.090  0.454  0.958  1.739  11786.429690  3572.659912   \n",
       "2020-11-12       NaN  0.085  0.396  0.885  1.651  11709.589840  3537.010010   \n",
       "\n",
       "                     DJI        VIX       USDX     KCU    LBN     ZCU  \n",
       "Date                                                                   \n",
       "1978-12-29           NaN        NaN        NaN     NaN    NaN     NaN  \n",
       "1979-01-01           NaN        NaN        NaN     NaN    NaN     NaN  \n",
       "1979-01-02           NaN        NaN  86.519997     NaN    NaN     NaN  \n",
       "1979-01-03           NaN        NaN  87.410004     NaN    NaN     NaN  \n",
       "1979-01-04           NaN        NaN  87.540001     NaN    NaN     NaN  \n",
       "...                  ...        ...        ...     ...    ...     ...  \n",
       "2020-11-06  28323.400391  24.860001  92.230003  106.95  555.2  406.75  \n",
       "2020-11-09  29157.970703  25.750000  92.730003  106.85  585.0  407.50  \n",
       "2020-11-10  29420.919922  24.799999  92.750000  107.30  580.0  423.00  \n",
       "2020-11-11  29397.630859  23.450001  93.040001     NaN    NaN     NaN  \n",
       "2020-11-12  29080.169922  25.350000  92.959999     NaN    NaN     NaN  \n",
       "\n",
       "[11115 rows x 13 columns]"
      ],
      "text/html": "<div>\n<style scoped>\n    .dataframe tbody tr th:only-of-type {\n        vertical-align: middle;\n    }\n\n    .dataframe tbody tr th {\n        vertical-align: top;\n    }\n\n    .dataframe thead th {\n        text-align: right;\n    }\n</style>\n<table border=\"1\" class=\"dataframe\">\n  <thead>\n    <tr style=\"text-align: right;\">\n      <th></th>\n      <th>XAU</th>\n      <th>IRX</th>\n      <th>FVX</th>\n      <th>TNX</th>\n      <th>TYX</th>\n      <th>IXIC</th>\n      <th>GSPC</th>\n      <th>DJI</th>\n      <th>VIX</th>\n      <th>USDX</th>\n      <th>KCU</th>\n      <th>LBN</th>\n      <th>ZCU</th>\n    </tr>\n    <tr>\n      <th>Date</th>\n      <th></th>\n      <th></th>\n      <th></th>\n      <th></th>\n      <th></th>\n      <th></th>\n      <th></th>\n      <th></th>\n      <th></th>\n      <th></th>\n      <th></th>\n      <th></th>\n      <th></th>\n    </tr>\n  </thead>\n  <tbody>\n    <tr>\n      <th>1978-12-29</th>\n      <td>226</td>\n      <td>NaN</td>\n      <td>NaN</td>\n      <td>NaN</td>\n      <td>NaN</td>\n      <td>NaN</td>\n      <td>NaN</td>\n      <td>NaN</td>\n      <td>NaN</td>\n      <td>NaN</td>\n      <td>NaN</td>\n      <td>NaN</td>\n      <td>NaN</td>\n    </tr>\n    <tr>\n      <th>1979-01-01</th>\n      <td>226</td>\n      <td>NaN</td>\n      <td>NaN</td>\n      <td>NaN</td>\n      <td>NaN</td>\n      <td>NaN</td>\n      <td>NaN</td>\n      <td>NaN</td>\n      <td>NaN</td>\n      <td>NaN</td>\n      <td>NaN</td>\n      <td>NaN</td>\n      <td>NaN</td>\n    </tr>\n    <tr>\n      <th>1979-01-02</th>\n      <td>226.8</td>\n      <td>9.410</td>\n      <td>9.330</td>\n      <td>9.180</td>\n      <td>8.990</td>\n      <td>117.839996</td>\n      <td>96.730003</td>\n      <td>NaN</td>\n      <td>NaN</td>\n      <td>86.519997</td>\n      <td>NaN</td>\n      <td>NaN</td>\n      <td>NaN</td>\n    </tr>\n    <tr>\n      <th>1979-01-03</th>\n      <td>218.6</td>\n      <td>9.310</td>\n      <td>9.330</td>\n      <td>9.160</td>\n      <td>8.960</td>\n      <td>119.110001</td>\n      <td>97.800003</td>\n      <td>NaN</td>\n      <td>NaN</td>\n      <td>87.410004</td>\n      <td>NaN</td>\n      <td>NaN</td>\n      <td>NaN</td>\n    </tr>\n    <tr>\n      <th>1979-01-04</th>\n      <td>223.2</td>\n      <td>9.310</td>\n      <td>9.270</td>\n      <td>9.110</td>\n      <td>8.940</td>\n      <td>120.660004</td>\n      <td>98.580002</td>\n      <td>NaN</td>\n      <td>NaN</td>\n      <td>87.540001</td>\n      <td>NaN</td>\n      <td>NaN</td>\n      <td>NaN</td>\n    </tr>\n    <tr>\n      <th>...</th>\n      <td>...</td>\n      <td>...</td>\n      <td>...</td>\n      <td>...</td>\n      <td>...</td>\n      <td>...</td>\n      <td>...</td>\n      <td>...</td>\n      <td>...</td>\n      <td>...</td>\n      <td>...</td>\n      <td>...</td>\n      <td>...</td>\n    </tr>\n    <tr>\n      <th>2020-11-06</th>\n      <td>1,940.80</td>\n      <td>0.083</td>\n      <td>0.363</td>\n      <td>0.820</td>\n      <td>1.599</td>\n      <td>11895.230470</td>\n      <td>3509.439941</td>\n      <td>28323.400391</td>\n      <td>24.860001</td>\n      <td>92.230003</td>\n      <td>106.95</td>\n      <td>555.2</td>\n      <td>406.75</td>\n    </tr>\n    <tr>\n      <th>2020-11-09</th>\n      <td>NaN</td>\n      <td>0.088</td>\n      <td>0.447</td>\n      <td>0.958</td>\n      <td>1.751</td>\n      <td>11713.780270</td>\n      <td>3550.500000</td>\n      <td>29157.970703</td>\n      <td>25.750000</td>\n      <td>92.730003</td>\n      <td>106.85</td>\n      <td>585.0</td>\n      <td>407.50</td>\n    </tr>\n    <tr>\n      <th>2020-11-10</th>\n      <td>NaN</td>\n      <td>0.090</td>\n      <td>0.460</td>\n      <td>0.972</td>\n      <td>1.760</td>\n      <td>11553.860350</td>\n      <td>3545.530029</td>\n      <td>29420.919922</td>\n      <td>24.799999</td>\n      <td>92.750000</td>\n      <td>107.30</td>\n      <td>580.0</td>\n      <td>423.00</td>\n    </tr>\n    <tr>\n      <th>2020-11-11</th>\n      <td>NaN</td>\n      <td>0.090</td>\n      <td>0.454</td>\n      <td>0.958</td>\n      <td>1.739</td>\n      <td>11786.429690</td>\n      <td>3572.659912</td>\n      <td>29397.630859</td>\n      <td>23.450001</td>\n      <td>93.040001</td>\n      <td>NaN</td>\n      <td>NaN</td>\n      <td>NaN</td>\n    </tr>\n    <tr>\n      <th>2020-11-12</th>\n      <td>NaN</td>\n      <td>0.085</td>\n      <td>0.396</td>\n      <td>0.885</td>\n      <td>1.651</td>\n      <td>11709.589840</td>\n      <td>3537.010010</td>\n      <td>29080.169922</td>\n      <td>25.350000</td>\n      <td>92.959999</td>\n      <td>NaN</td>\n      <td>NaN</td>\n      <td>NaN</td>\n    </tr>\n  </tbody>\n</table>\n<p>11115 rows × 13 columns</p>\n</div>"
     },
     "metadata": {},
     "execution_count": 42
    }
   ],
   "source": [
    "all_asset = {}\n",
    "for ast in as_lst:\n",
    "    this_asset = pd.read_csv(f\"../res/origin_series/{ast}.csv\")\n",
    "    this_asset['Date'] = pd.to_datetime(this_asset['Date'])\n",
    "    all_asset[ast] = this_asset[['Date','Close']].set_index('Date')\n",
    "    \n",
    "close_df = pd.concat(all_asset,axis=1,join='outer')\n",
    "close_df.columns=as_lst\n",
    "close_df"
   ]
  },
  {
   "cell_type": "code",
   "execution_count": 51,
   "metadata": {},
   "outputs": [],
   "source": [
    "count_na = close_df.isnull().sum(axis=1)\n",
    "# valid_idx = count_na[count_na==0].index[0]\n",
    "close_df = close_df.loc[count_na[count_na==0].index[0]:pd.to_datetime('2020-11-06 00:00:00')]\n",
    "# close_df = close_df.dropna(subset=['XAU'])\n",
    "close_df['XAU'] = close_df['XAU'].apply(lambda x: x.replace(',','') if type(x)==str else x).astype(float)\n",
    "close_df.fillna(method='ffill',inplace=True)\n",
    "close_df = close_df.replace(0,1e-6)\n",
    "close_df[close_df<0] = 0\n",
    "# close_df = close_df.fillna(1e-6)\n",
    "assert close_df.isnull().sum().sum() == 0\n",
    "close_df.to_csv('../res/close_df.csv')\n",
    "# logr_df = np.log(close_df).diff()\n",
    "# logr_df['label'] = 0\n",
    "# logr_df['label'][logr_df.XAU > 0] = 1"
   ]
  },
  {
   "cell_type": "code",
   "execution_count": 40,
   "metadata": {},
   "outputs": [
    {
     "output_type": "execute_result",
     "data": {
      "text/plain": [
       "Timestamp('2020-11-06 00:00:00')"
      ]
     },
     "metadata": {},
     "execution_count": 40
    }
   ],
   "source": [
    "pd.to_datetime('2020-11-06 00:00:00')"
   ]
  },
  {
   "cell_type": "code",
   "execution_count": 50,
   "metadata": {},
   "outputs": [],
   "source": []
  },
  {
   "cell_type": "code",
   "execution_count": 11,
   "metadata": {},
   "outputs": [],
   "source": [
    "count_na = close_df.isnull().sum(axis=1)\n",
    "\n",
    "\n",
    "close_df = close_df.dropna(subset=['XAU'])\n",
    "close_df['XAU'] = close_df['XAU'].apply(lambda x: x.replace(',','')).astype(float)\n",
    "close_df = close_df.fillna(1e-6)\n",
    "\n",
    "logr_df = np.log(close_df).diff()\n",
    "logr_df['label'] = 0\n",
    "logr_df['label'][logr_df.XAU > 0] = 1"
   ]
  },
  {
   "cell_type": "code",
   "execution_count": 12,
   "metadata": {},
   "outputs": [
    {
     "output_type": "execute_result",
     "data": {
      "text/plain": [
       "                 XAU       IRX       FVX       TNX       TYX      IXIC  \\\n",
       "Date                                                                     \n",
       "1990-04-04 -0.001868 -0.008992 -0.009302 -0.009313 -0.010508 -0.005269   \n",
       "1990-04-05  0.010894  0.001289  0.001168  0.002336  0.000000 -0.004558   \n",
       "1990-04-06 -0.001852  0.000000 -0.002336 -0.001168  0.000000 -0.005831   \n",
       "1990-04-09 -0.002651  0.007702  0.003503  0.003499  0.003515 -0.001626   \n",
       "1990-04-10 -0.003990 -0.005128  0.000000  0.001163  0.002336  0.003944   \n",
       "...              ...       ...       ...       ...       ...       ...   \n",
       "2020-11-02  0.004242  0.000000 -0.010554 -0.012873 -0.009804  0.004209   \n",
       "2020-11-03  0.009689  0.080969  0.041564  0.038133  0.018909  0.018353   \n",
       "2020-11-04 -0.004254 -0.080969 -0.196157 -0.138402 -0.068130  0.037823   \n",
       "2020-11-05  0.019955  0.023811  0.036478  0.010363 -0.001294  0.025566   \n",
       "2020-11-06  0.001186 -0.023811  0.080272  0.055152  0.035002  0.000362   \n",
       "\n",
       "                GSPC       DJI       VIX      USDX       KCU       LBN  \\\n",
       "Date                                                                     \n",
       "1990-04-04 -0.007448 -0.006356  0.074911 -0.000319  0.031657  0.010706   \n",
       "1990-04-05 -0.001056  0.000662 -0.037932 -0.001278  0.018359  0.005058   \n",
       "1990-04-06 -0.001910 -0.001489  0.025601 -0.001493 -0.011226 -0.001515   \n",
       "1990-04-09  0.003786  0.001820  0.024513 -0.000427  0.015146  0.008052   \n",
       "1990-04-10  0.002048  0.003305 -0.027735 -0.007285  0.006567 -0.020765   \n",
       "...              ...       ...       ...       ...       ...       ...   \n",
       "2020-11-02  0.012243  0.015852 -0.023687  0.000106 -0.015444  0.022742   \n",
       "2020-11-03  0.017643  0.020402 -0.043485 -0.005331  0.006303  0.056369   \n",
       "2020-11-04  0.021808  0.013289 -0.184180 -0.001498 -0.004359  0.023218   \n",
       "2020-11-05  0.019273  0.019294 -0.069669 -0.009466  0.028238  0.030319   \n",
       "2020-11-06 -0.000288 -0.002355 -0.103831 -0.003247  0.009394 -0.019089   \n",
       "\n",
       "                  NGQ       ZCU  label  \n",
       "Date                                    \n",
       "1990-04-04  14.297937  0.006545      0  \n",
       "1990-04-05  -0.003091  0.007428      1  \n",
       "1990-04-06   0.006173 -0.003707      0  \n",
       "1990-04-09   0.007357  0.000928      0  \n",
       "1990-04-10  -0.010439  0.011987      0  \n",
       "...               ...       ...    ...  \n",
       "2020-11-02   0.000000 -0.002513      1  \n",
       "2020-11-03   0.000000  0.008766      1  \n",
       "2020-11-04   0.000000  0.010543      0  \n",
       "2020-11-05   0.000000  0.009822      1  \n",
       "2020-11-06   0.000000 -0.006127      1  \n",
       "\n",
       "[7983 rows x 15 columns]"
      ],
      "text/html": "<div>\n<style scoped>\n    .dataframe tbody tr th:only-of-type {\n        vertical-align: middle;\n    }\n\n    .dataframe tbody tr th {\n        vertical-align: top;\n    }\n\n    .dataframe thead th {\n        text-align: right;\n    }\n</style>\n<table border=\"1\" class=\"dataframe\">\n  <thead>\n    <tr style=\"text-align: right;\">\n      <th></th>\n      <th>XAU</th>\n      <th>IRX</th>\n      <th>FVX</th>\n      <th>TNX</th>\n      <th>TYX</th>\n      <th>IXIC</th>\n      <th>GSPC</th>\n      <th>DJI</th>\n      <th>VIX</th>\n      <th>USDX</th>\n      <th>KCU</th>\n      <th>LBN</th>\n      <th>NGQ</th>\n      <th>ZCU</th>\n      <th>label</th>\n    </tr>\n    <tr>\n      <th>Date</th>\n      <th></th>\n      <th></th>\n      <th></th>\n      <th></th>\n      <th></th>\n      <th></th>\n      <th></th>\n      <th></th>\n      <th></th>\n      <th></th>\n      <th></th>\n      <th></th>\n      <th></th>\n      <th></th>\n      <th></th>\n    </tr>\n  </thead>\n  <tbody>\n    <tr>\n      <th>1990-04-04</th>\n      <td>-0.001868</td>\n      <td>-0.008992</td>\n      <td>-0.009302</td>\n      <td>-0.009313</td>\n      <td>-0.010508</td>\n      <td>-0.005269</td>\n      <td>-0.007448</td>\n      <td>-0.006356</td>\n      <td>0.074911</td>\n      <td>-0.000319</td>\n      <td>0.031657</td>\n      <td>0.010706</td>\n      <td>14.297937</td>\n      <td>0.006545</td>\n      <td>0</td>\n    </tr>\n    <tr>\n      <th>1990-04-05</th>\n      <td>0.010894</td>\n      <td>0.001289</td>\n      <td>0.001168</td>\n      <td>0.002336</td>\n      <td>0.000000</td>\n      <td>-0.004558</td>\n      <td>-0.001056</td>\n      <td>0.000662</td>\n      <td>-0.037932</td>\n      <td>-0.001278</td>\n      <td>0.018359</td>\n      <td>0.005058</td>\n      <td>-0.003091</td>\n      <td>0.007428</td>\n      <td>1</td>\n    </tr>\n    <tr>\n      <th>1990-04-06</th>\n      <td>-0.001852</td>\n      <td>0.000000</td>\n      <td>-0.002336</td>\n      <td>-0.001168</td>\n      <td>0.000000</td>\n      <td>-0.005831</td>\n      <td>-0.001910</td>\n      <td>-0.001489</td>\n      <td>0.025601</td>\n      <td>-0.001493</td>\n      <td>-0.011226</td>\n      <td>-0.001515</td>\n      <td>0.006173</td>\n      <td>-0.003707</td>\n      <td>0</td>\n    </tr>\n    <tr>\n      <th>1990-04-09</th>\n      <td>-0.002651</td>\n      <td>0.007702</td>\n      <td>0.003503</td>\n      <td>0.003499</td>\n      <td>0.003515</td>\n      <td>-0.001626</td>\n      <td>0.003786</td>\n      <td>0.001820</td>\n      <td>0.024513</td>\n      <td>-0.000427</td>\n      <td>0.015146</td>\n      <td>0.008052</td>\n      <td>0.007357</td>\n      <td>0.000928</td>\n      <td>0</td>\n    </tr>\n    <tr>\n      <th>1990-04-10</th>\n      <td>-0.003990</td>\n      <td>-0.005128</td>\n      <td>0.000000</td>\n      <td>0.001163</td>\n      <td>0.002336</td>\n      <td>0.003944</td>\n      <td>0.002048</td>\n      <td>0.003305</td>\n      <td>-0.027735</td>\n      <td>-0.007285</td>\n      <td>0.006567</td>\n      <td>-0.020765</td>\n      <td>-0.010439</td>\n      <td>0.011987</td>\n      <td>0</td>\n    </tr>\n    <tr>\n      <th>...</th>\n      <td>...</td>\n      <td>...</td>\n      <td>...</td>\n      <td>...</td>\n      <td>...</td>\n      <td>...</td>\n      <td>...</td>\n      <td>...</td>\n      <td>...</td>\n      <td>...</td>\n      <td>...</td>\n      <td>...</td>\n      <td>...</td>\n      <td>...</td>\n      <td>...</td>\n    </tr>\n    <tr>\n      <th>2020-11-02</th>\n      <td>0.004242</td>\n      <td>0.000000</td>\n      <td>-0.010554</td>\n      <td>-0.012873</td>\n      <td>-0.009804</td>\n      <td>0.004209</td>\n      <td>0.012243</td>\n      <td>0.015852</td>\n      <td>-0.023687</td>\n      <td>0.000106</td>\n      <td>-0.015444</td>\n      <td>0.022742</td>\n      <td>0.000000</td>\n      <td>-0.002513</td>\n      <td>1</td>\n    </tr>\n    <tr>\n      <th>2020-11-03</th>\n      <td>0.009689</td>\n      <td>0.080969</td>\n      <td>0.041564</td>\n      <td>0.038133</td>\n      <td>0.018909</td>\n      <td>0.018353</td>\n      <td>0.017643</td>\n      <td>0.020402</td>\n      <td>-0.043485</td>\n      <td>-0.005331</td>\n      <td>0.006303</td>\n      <td>0.056369</td>\n      <td>0.000000</td>\n      <td>0.008766</td>\n      <td>1</td>\n    </tr>\n    <tr>\n      <th>2020-11-04</th>\n      <td>-0.004254</td>\n      <td>-0.080969</td>\n      <td>-0.196157</td>\n      <td>-0.138402</td>\n      <td>-0.068130</td>\n      <td>0.037823</td>\n      <td>0.021808</td>\n      <td>0.013289</td>\n      <td>-0.184180</td>\n      <td>-0.001498</td>\n      <td>-0.004359</td>\n      <td>0.023218</td>\n      <td>0.000000</td>\n      <td>0.010543</td>\n      <td>0</td>\n    </tr>\n    <tr>\n      <th>2020-11-05</th>\n      <td>0.019955</td>\n      <td>0.023811</td>\n      <td>0.036478</td>\n      <td>0.010363</td>\n      <td>-0.001294</td>\n      <td>0.025566</td>\n      <td>0.019273</td>\n      <td>0.019294</td>\n      <td>-0.069669</td>\n      <td>-0.009466</td>\n      <td>0.028238</td>\n      <td>0.030319</td>\n      <td>0.000000</td>\n      <td>0.009822</td>\n      <td>1</td>\n    </tr>\n    <tr>\n      <th>2020-11-06</th>\n      <td>0.001186</td>\n      <td>-0.023811</td>\n      <td>0.080272</td>\n      <td>0.055152</td>\n      <td>0.035002</td>\n      <td>0.000362</td>\n      <td>-0.000288</td>\n      <td>-0.002355</td>\n      <td>-0.103831</td>\n      <td>-0.003247</td>\n      <td>0.009394</td>\n      <td>-0.019089</td>\n      <td>0.000000</td>\n      <td>-0.006127</td>\n      <td>1</td>\n    </tr>\n  </tbody>\n</table>\n<p>7983 rows × 15 columns</p>\n</div>"
     },
     "metadata": {},
     "execution_count": 12
    }
   ],
   "source": [
    "logr_df[valid_idx:]"
   ]
  },
  {
   "cell_type": "code",
   "execution_count": null,
   "metadata": {},
   "outputs": [],
   "source": [
    "final_df = logr_df[valid_idx:]"
   ]
  },
  {
   "cell_type": "code",
   "execution_count": 91,
   "metadata": {},
   "outputs": [],
   "source": [
    "logr_df[valid_idx:].drop(\"XAU\",axis=1).to_csv('../res/logr_label.csv')"
   ]
  }
 ]
}