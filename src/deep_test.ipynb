{
 "metadata": {
  "language_info": {
   "codemirror_mode": {
    "name": "ipython",
    "version": 3
   },
   "file_extension": ".py",
   "mimetype": "text/x-python",
   "name": "python",
   "nbconvert_exporter": "python",
   "pygments_lexer": "ipython3",
   "version": "3.7.5-final"
  },
  "orig_nbformat": 2,
  "kernelspec": {
   "name": "python37564bitinnocondac6c0adcf834a42938fa02ac328c764a8",
   "display_name": "Python 3.7.5 64-bit ('inno': conda)"
  }
 },
 "nbformat": 4,
 "nbformat_minor": 2,
 "cells": [
  {
   "cell_type": "code",
   "execution_count": 2,
   "metadata": {},
   "outputs": [],
   "source": [
    "import pandas as pd \n",
    "import numpy as np \n",
    "import matplotlib.pyplot as plt\n",
    "# import lightgbm as lgb\n",
    "import warnings\n",
    "warnings.filterwarnings('ignore')\n",
    "from sklearn import preprocessing\n",
    "import tensorflow as tf\n",
    "from keras.backend.tensorflow_backend import set_session\n",
    "config = tf.ConfigProto()\n",
    "config.gpu_options.allow_growth = True\n",
    "set_session(tf.Session(config=config))\n",
    "\n",
    "# from tensorflow import keras\n",
    "import keras\n",
    "from keras.models import Sequential, load_model\n",
    "from keras.utils import np_utils\n",
    "from keras.layers.embeddings import Embedding\n",
    "from keras.layers.core import Reshape\n",
    "from keras.layers.core import Dense, Activation, Dropout\n",
    "# from keras.layers.cudnn_recurrent import CuDNNLSTM\n",
    "from sklearn import preprocessing\n",
    "from keras.utils import to_categorical\n",
    "from keras.callbacks import EarlyStopping\n",
    "from keras import backend as K\n",
    "\n",
    "from sklearn.preprocessing import StandardScaler\n",
    "scaler = StandardScaler()\n",
    "yscaler = StandardScaler()"
   ]
  },
  {
   "cell_type": "code",
   "execution_count": null,
   "metadata": {},
   "outputs": [],
   "source": [
    "close_df = pd.read_csv('../res/close_df.csv',index_col=0)\n",
    "close_df.head()\n",
    "\n",
    "df = np.log(close_df).diff()\n",
    "target = df['XAU'].iloc[2:].values\n",
    "features = df.iloc[1:-1].values\n",
    "\n",
    "train_val_split = 6000\n",
    "train_test_split = 7500\n",
    "\n",
    "X_train = scaler.fit_transform(features[:train_val_split])\n",
    "y_train = target[:train_val_split].reshape(-1,1)\n",
    "\n",
    "X_val = scaler.transform(features[train_val_split:train_test_split])\n",
    "y_val = target[train_val_split:train_test_split].reshape(-1,1)\n",
    "\n",
    "X_test = scaler.transform(features[train_test_split:])\n",
    "y_test = target[train_test_split:].reshape(-1,1)\n",
    "\n",
    "def return_loss(y_true, y_pred):\n",
    "    # pos = K.sign(y_pred)\n",
    "    loss = -K.mean(y_pred * y_true)\n",
    "    return loss\n",
    "\n",
    "model = load_model('dnn_32_16.h5',custom_objects={'return_loss':return_loss})"
   ]
  },
  {
   "cell_type": "code",
   "execution_count": 8,
   "metadata": {},
   "outputs": [
    {
     "output_type": "execute_result",
     "data": {
      "text/plain": [
       "           NC       KMN      TKNC       LSA       DSA\n",
       "0    0.930833  0.825376  0.714552  0.108217  0.414972\n",
       "1    0.192801  0.281890  0.745219  0.370755  0.713252\n",
       "2    0.556018  0.067582  0.839550  0.205664  0.806113\n",
       "3    0.736983  0.692214  0.747101  0.317886  0.694058\n",
       "4    0.479892  0.071693  0.203638  0.652200  0.989951\n",
       "..        ...       ...       ...       ...       ...\n",
       "795  0.620874  0.320128  0.834993  0.194983  0.418455\n",
       "796  0.920552  0.919642  0.979882  0.787141  0.726604\n",
       "797  0.548274  0.381842  0.910940  0.981444  0.963967\n",
       "798  0.920743  0.952398  0.675336  0.976999  0.169626\n",
       "799  0.202000  0.006530  0.520287  0.428320  0.223372\n",
       "\n",
       "[800 rows x 5 columns]"
      ],
      "text/html": "<div>\n<style scoped>\n    .dataframe tbody tr th:only-of-type {\n        vertical-align: middle;\n    }\n\n    .dataframe tbody tr th {\n        vertical-align: top;\n    }\n\n    .dataframe thead th {\n        text-align: right;\n    }\n</style>\n<table border=\"1\" class=\"dataframe\">\n  <thead>\n    <tr style=\"text-align: right;\">\n      <th></th>\n      <th>NC</th>\n      <th>KMN</th>\n      <th>TKNC</th>\n      <th>LSA</th>\n      <th>DSA</th>\n    </tr>\n  </thead>\n  <tbody>\n    <tr>\n      <th>0</th>\n      <td>0.930833</td>\n      <td>0.825376</td>\n      <td>0.714552</td>\n      <td>0.108217</td>\n      <td>0.414972</td>\n    </tr>\n    <tr>\n      <th>1</th>\n      <td>0.192801</td>\n      <td>0.281890</td>\n      <td>0.745219</td>\n      <td>0.370755</td>\n      <td>0.713252</td>\n    </tr>\n    <tr>\n      <th>2</th>\n      <td>0.556018</td>\n      <td>0.067582</td>\n      <td>0.839550</td>\n      <td>0.205664</td>\n      <td>0.806113</td>\n    </tr>\n    <tr>\n      <th>3</th>\n      <td>0.736983</td>\n      <td>0.692214</td>\n      <td>0.747101</td>\n      <td>0.317886</td>\n      <td>0.694058</td>\n    </tr>\n    <tr>\n      <th>4</th>\n      <td>0.479892</td>\n      <td>0.071693</td>\n      <td>0.203638</td>\n      <td>0.652200</td>\n      <td>0.989951</td>\n    </tr>\n    <tr>\n      <th>...</th>\n      <td>...</td>\n      <td>...</td>\n      <td>...</td>\n      <td>...</td>\n      <td>...</td>\n    </tr>\n    <tr>\n      <th>795</th>\n      <td>0.620874</td>\n      <td>0.320128</td>\n      <td>0.834993</td>\n      <td>0.194983</td>\n      <td>0.418455</td>\n    </tr>\n    <tr>\n      <th>796</th>\n      <td>0.920552</td>\n      <td>0.919642</td>\n      <td>0.979882</td>\n      <td>0.787141</td>\n      <td>0.726604</td>\n    </tr>\n    <tr>\n      <th>797</th>\n      <td>0.548274</td>\n      <td>0.381842</td>\n      <td>0.910940</td>\n      <td>0.981444</td>\n      <td>0.963967</td>\n    </tr>\n    <tr>\n      <th>798</th>\n      <td>0.920743</td>\n      <td>0.952398</td>\n      <td>0.675336</td>\n      <td>0.976999</td>\n      <td>0.169626</td>\n    </tr>\n    <tr>\n      <th>799</th>\n      <td>0.202000</td>\n      <td>0.006530</td>\n      <td>0.520287</td>\n      <td>0.428320</td>\n      <td>0.223372</td>\n    </tr>\n  </tbody>\n</table>\n<p>800 rows × 5 columns</p>\n</div>"
     },
     "metadata": {},
     "execution_count": 8
    }
   ],
   "source": []
  },
  {
   "cell_type": "code",
   "execution_count": null,
   "metadata": {},
   "outputs": [],
   "source": []
  }
 ]
}