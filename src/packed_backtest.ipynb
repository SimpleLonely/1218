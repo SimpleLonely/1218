{
 "nbformat": 4,
 "nbformat_minor": 2,
 "metadata": {
  "language_info": {
   "name": "python",
   "codemirror_mode": {
    "name": "ipython",
    "version": 3
   },
   "version": "3.7.5-final"
  },
  "orig_nbformat": 2,
  "file_extension": ".py",
  "mimetype": "text/x-python",
  "name": "python",
  "npconvert_exporter": "python",
  "pygments_lexer": "ipython3",
  "version": 3,
  "kernelspec": {
   "name": "python37564bit39c99c26652f4524b29e55ad15e6988f",
   "display_name": "Python 3.7.5 64-bit"
  }
 },
 "cells": [
  {
   "cell_type": "code",
   "execution_count": 1,
   "metadata": {
    "tags": [
     "outputPrepend",
     "outputPrepend"
    ]
   },
   "outputs": [
    {
     "output_type": "stream",
     "name": "stdout",
     "text": "Starting Portfolio Value: 100000.00\nFinal Portfolio Value: 269972.00\nSharpe: 5.45\nMax drawdown: 0.92%\nAnnual rate: 64.96%\n"
    }
   ],
   "source": [
    "# import packages\n",
    "import pandas as pd\n",
    "from bt_classes import *\n",
    "orig_df = pd.read_csv('../res/test_data.csv',index_col=0,parse_dates=True)\n",
    "my_backtest(orig_df[:500])"
   ]
  },
  {
   "cell_type": "code",
   "execution_count": null,
   "metadata": {},
   "outputs": [],
   "source": []
  }
 ]
}