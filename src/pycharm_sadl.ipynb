{
 "cells": [
  {
   "cell_type": "code",
   "execution_count": 8,
   "metadata": {
    "collapsed": true,
    "pycharm": {
     "is_executing": false
    }
   },
   "outputs": [],
   "source": [
    "# import packages\n",
    "import pandas as pd\n",
    "import numpy as np\n",
    "from sklearn.preprocessing import StandardScaler\n",
    "from itertools import chain\n",
    "df = pd.read_csv('../res/input0130.csv')"
   ]
  },
  {
   "cell_type": "code",
   "execution_count": 9,
   "outputs": [],
   "source": [
    "scaler = StandardScaler()\n",
    "starter = range(240,len(df)-1000,250)\n",
    "all_results = []\n",
    "all_evas = []\n",
    "y_pred_clf = []\n",
    "all_x_train = []\n",
    "all_x_test = []\n",
    "all_y_train = []\n",
    "all_y_test = []\n",
    "for train_begin in starter:\n",
    "    train_end = train_begin + 750\n",
    "    test_end = train_end + 250\n",
    "    train_set = df[{'log_r','label'}][train_begin:train_end].reset_index()\n",
    "    x_train, y_train = [], []\n",
    "    x_train_set = list(chain.from_iterable(scaler.fit_transform(train_set['log_r'].values.reshape(-1,1))))\n",
    "    for i in range(240,len(x_train_set)):\n",
    "        x_train.append(x_train_set[i-240:i])\n",
    "        y_train.append(train_set['label'][i])\n",
    "    x_train, y_train = np.array(x_train), np.array(y_train)\n",
    "    x_train = np.reshape(x_train, (x_train.shape[0],x_train.shape[1],1)) \n",
    "    \n",
    "    # model = lstm_model()\n",
    "    # model.fit(x_train,y_train,epochs=100,callbacks=[EarlyStopping(monitor='loss',patience=10)])\n",
    "\n",
    "    x_test, y_test = [], []\n",
    "    test_set = df[{'log_r','label'}][train_end-240:test_end].reset_index()\n",
    "    x_test_set = list(chain.from_iterable(scaler.transform(test_set['log_r'].values.reshape(-1,1))))\n",
    "    for i in range(240,len(x_test_set)):\n",
    "        x_test.append(x_test_set[i-240:i])\n",
    "        y_test.append(test_set['label'][i])\n",
    "    x_test, y_test = np.array(x_test), np.array(y_test)\n",
    "    x_test = np.reshape(x_test, (x_test.shape[0],x_test.shape[1],1)) \n",
    "    all_x_train.append(x_train)\n",
    "    all_y_train.append(y_train)\n",
    "    all_x_test.append(x_test)\n",
    "    all_y_test.append(y_test)\n",
    "\n",
    "    # all_results.append(model.predict(x_test))\n",
    "    # all_evas.append(model.evaluate(x_test, y_test))\n",
    "    # y_pred_clf.append(model.predict_classes(x_test))"
   ],
   "metadata": {
    "collapsed": false,
    "pycharm": {
     "name": "#%%\n",
     "is_executing": false
    }
   }
  },
  {
   "cell_type": "code",
   "execution_count": 1,
   "outputs": [
    {
     "name": "stderr",
     "text": [
      "Using TensorFlow backend.\n",
      "D:\\Anaconda3\\envs\\inno\\lib\\site-packages\\tensorflow\\python\\framework\\dtypes.py:516: FutureWarning: Passing (type, 1) or '1type' as a synonym of type is deprecated; in a future version of numpy, it will be understood as (type, (1,)) / '(1,)type'.\n  _np_qint8 = np.dtype([(\"qint8\", np.int8, 1)])\nD:\\Anaconda3\\envs\\inno\\lib\\site-packages\\tensorflow\\python\\framework\\dtypes.py:517: FutureWarning: Passing (type, 1) or '1type' as a synonym of type is deprecated; in a future version of numpy, it will be understood as (type, (1,)) / '(1,)type'.\n  _np_quint8 = np.dtype([(\"quint8\", np.uint8, 1)])\nD:\\Anaconda3\\envs\\inno\\lib\\site-packages\\tensorflow\\python\\framework\\dtypes.py:518: FutureWarning: Passing (type, 1) or '1type' as a synonym of type is deprecated; in a future version of numpy, it will be understood as (type, (1,)) / '(1,)type'.\n  _np_qint16 = np.dtype([(\"qint16\", np.int16, 1)])\nD:\\Anaconda3\\envs\\inno\\lib\\site-packages\\tensorflow\\python\\framework\\dtypes.py:519: FutureWarning: Passing (type, 1) or '1type' as a synonym of type is deprecated; in a future version of numpy, it will be understood as (type, (1,)) / '(1,)type'.\n  _np_quint16 = np.dtype([(\"quint16\", np.uint16, 1)])\nD:\\Anaconda3\\envs\\inno\\lib\\site-packages\\tensorflow\\python\\framework\\dtypes.py:520: FutureWarning: Passing (type, 1) or '1type' as a synonym of type is deprecated; in a future version of numpy, it will be understood as (type, (1,)) / '(1,)type'.\n  _np_qint32 = np.dtype([(\"qint32\", np.int32, 1)])\nD:\\Anaconda3\\envs\\inno\\lib\\site-packages\\tensorflow\\python\\framework\\dtypes.py:525: FutureWarning: Passing (type, 1) or '1type' as a synonym of type is deprecated; in a future version of numpy, it will be understood as (type, (1,)) / '(1,)type'.\n  np_resource = np.dtype([(\"resource\", np.ubyte, 1)])\n",
      "D:\\Anaconda3\\envs\\inno\\lib\\site-packages\\tensorboard\\compat\\tensorflow_stub\\dtypes.py:541: FutureWarning: Passing (type, 1) or '1type' as a synonym of type is deprecated; in a future version of numpy, it will be understood as (type, (1,)) / '(1,)type'.\n  _np_qint8 = np.dtype([(\"qint8\", np.int8, 1)])\nD:\\Anaconda3\\envs\\inno\\lib\\site-packages\\tensorboard\\compat\\tensorflow_stub\\dtypes.py:542: FutureWarning: Passing (type, 1) or '1type' as a synonym of type is deprecated; in a future version of numpy, it will be understood as (type, (1,)) / '(1,)type'.\n  _np_quint8 = np.dtype([(\"quint8\", np.uint8, 1)])\nD:\\Anaconda3\\envs\\inno\\lib\\site-packages\\tensorboard\\compat\\tensorflow_stub\\dtypes.py:543: FutureWarning: Passing (type, 1) or '1type' as a synonym of type is deprecated; in a future version of numpy, it will be understood as (type, (1,)) / '(1,)type'.\n  _np_qint16 = np.dtype([(\"qint16\", np.int16, 1)])\nD:\\Anaconda3\\envs\\inno\\lib\\site-packages\\tensorboard\\compat\\tensorflow_stub\\dtypes.py:544: FutureWarning: Passing (type, 1) or '1type' as a synonym of type is deprecated; in a future version of numpy, it will be understood as (type, (1,)) / '(1,)type'.\n  _np_quint16 = np.dtype([(\"quint16\", np.uint16, 1)])\nD:\\Anaconda3\\envs\\inno\\lib\\site-packages\\tensorboard\\compat\\tensorflow_stub\\dtypes.py:545: FutureWarning: Passing (type, 1) or '1type' as a synonym of type is deprecated; in a future version of numpy, it will be understood as (type, (1,)) / '(1,)type'.\n  _np_qint32 = np.dtype([(\"qint32\", np.int32, 1)])\nD:\\Anaconda3\\envs\\inno\\lib\\site-packages\\tensorboard\\compat\\tensorflow_stub\\dtypes.py:550: FutureWarning: Passing (type, 1) or '1type' as a synonym of type is deprecated; in a future version of numpy, it will be understood as (type, (1,)) / '(1,)type'.\n  np_resource = np.dtype([(\"resource\", np.ubyte, 1)])\n"
     ],
     "output_type": "stream"
    }
   ],
   "source": [
    "from tqdm import tqdm\n",
    "from keras.models import load_model, Model\n",
    "from sa import *\n",
    "from utils import *"
   ],
   "metadata": {
    "collapsed": false,
    "pycharm": {
     "name": "#%%\n",
     "is_executing": false
    }
   }
  },
  {
   "cell_type": "code",
   "execution_count": 17,
   "outputs": [
    {
     "name": "stdout",
     "text": [
      "Model: \"model_7\"\n_________________________________________________________________\nLayer (type)                 Output Shape              Param #   \n=================================================================\nlstm_1_input (InputLayer)    (None, 240, 1)            0         \n_________________________________________________________________\nlstm_1 (LSTM)                (None, 240, 25)           2700      \n_________________________________________________________________\nactivation_1 (Activation)    (None, 240, 25)           0         \n_________________________________________________________________\nlstm_2 (LSTM)                (None, 25)                5100      \n=================================================================\nTotal params: 7,800\nTrainable params: 7,800\nNon-trainable params: 0\n_________________________________________________________________\n"
     ],
     "output_type": "stream"
    }
   ],
   "source": [
    "# model = load_model('lstm_r.h5')\n",
    "layer_names = ['lstm_2']\n",
    "temp_model = Model(\n",
    "    inputs=model.input,\n",
    "    outputs=[model.get_layer(layer_name).output for layer_name in layer_names],\n",
    ")\n",
    "temp_model.summary()"
   ],
   "metadata": {
    "collapsed": false,
    "pycharm": {
     "name": "#%%\n",
     "is_executing": false
    }
   }
  },
  {
   "cell_type": "code",
   "execution_count": 15,
   "outputs": [
    {
     "name": "stdout",
     "text": [
      "Model: \"sequential_1\"\n_________________________________________________________________\nLayer (type)                 Output Shape              Param #   \n=================================================================\nlstm_1 (LSTM)                (None, 240, 25)           2700      \n_________________________________________________________________\nactivation_1 (Activation)    (None, 240, 25)           0         \n_________________________________________________________________\nlstm_2 (LSTM)                (None, 25)                5100      \n_________________________________________________________________\nactivation_2 (Activation)    (None, 25)                0         \n_________________________________________________________________\ndense_1 (Dense)              (None, 2)                 52        \n=================================================================\nTotal params: 7,852\nTrainable params: 7,852\nNon-trainable params: 0\n_________________________________________________________________\n"
     ],
     "output_type": "stream"
    }
   ],
   "source": [
    "model.summary()"
   ],
   "metadata": {
    "collapsed": false,
    "pycharm": {
     "name": "#%%\n",
     "is_executing": false
    }
   }
  },
  {
   "cell_type": "code",
   "execution_count": 5,
   "outputs": [
    {
     "name": "stdout",
     "text": [
      "Model: \"sequential_1\"\n_________________________________________________________________\nLayer (type)                 Output Shape              Param #   \n=================================================================\nlstm_1 (LSTM)                (None, 50)                10400     \n_________________________________________________________________\nactivation_1 (Activation)    (None, 50)                0         \n_________________________________________________________________\ndense_1 (Dense)              (None, 2)                 102       \n=================================================================\nTotal params: 10,502\nTrainable params: 10,502\nNon-trainable params: 0\n_________________________________________________________________\n"
     ],
     "output_type": "stream"
    }
   ],
   "source": [
    "model = load_model('lstm_r_1c.h5')\n",
    "default_upper_bound = 2000\n",
    "default_n_bucket = 1000\n",
    "default_n_classes = 2\n",
    "class Args(): #创建一个类\n",
    "    def __init__(self): #定义初始化信息。\n",
    "        self.is_classification = True\n",
    "        self.save_path = './tmp/'\n",
    "        self.d = 'lstm_r'\n",
    "        self.num_classes = 2\n",
    "        self.lsa = True\n",
    "        self.dsa = True\n",
    "        self.target = 'none'\n",
    "        self.batch_size = 128\n",
    "        self.var_threshold = 1e-5\n",
    "        self.upper_bound = 2000\n",
    "        self.n_bucket = 1000\n",
    "        self.is_classification = True\n",
    "args = Args()\n",
    "model.summary()"
   ],
   "metadata": {
    "collapsed": false,
    "pycharm": {
     "name": "#%%\n",
     "is_executing": false
    }
   }
  },
  {
   "cell_type": "code",
   "execution_count": 6,
   "outputs": [],
   "source": [
    "layer_names = ['activation_1']"
   ],
   "metadata": {
    "collapsed": false,
    "pycharm": {
     "name": "#%%\n",
     "is_executing": false
    }
   }
  },
  {
   "cell_type": "code",
   "execution_count": 12,
   "outputs": [
    {
     "name": "stdout",
     "text": [
      "\u001b[92mFound saved train ATs, skip serving\u001b[0m\n\u001b[92mFound saved test ATs, skip serving\u001b[0m\n",
      "\u001b[92mThe number of removed columns: 0\u001b[0m\n",
      "\u001b[94m[test] \u001b[0mFetching LSA\n",
      "\u001b[92mFound saved train ATs, skip serving\u001b[0m\n\u001b[92mFound saved target ATs, skip serving\u001b[0m\n",
      "\u001b[92mThe number of removed columns: 0\u001b[0m\n\u001b[94m[target] \u001b[0mFetching LSA\n",
      "\u001b[92mLSA coverage: 1.9\u001b[0m\n"
     ],
     "output_type": "stream"
    },
    {
     "name": "stderr",
     "text": [
      "\rkde:   0%|          | 0/2 [00:00<?, ?it/s]",
      "\rkde:  50%|█████     | 1/2 [00:01<00:01,  1.77s/it]",
      "\rkde: 100%|██████████| 2/2 [00:02<00:00,  1.51s/it]",
      "\rkde: 100%|██████████| 2/2 [00:02<00:00,  1.34s/it]",
      "\n",
      "\r  0%|          | 0/250 [00:00<?, ?it/s]",
      "\r  0%|          | 1/250 [00:01<07:19,  1.77s/it]",
      "\r  1%|          | 2/250 [00:05<10:11,  2.47s/it]",
      "\r  1%|          | 3/250 [00:06<07:56,  1.93s/it]",
      "\r  2%|▏         | 4/250 [00:07<06:31,  1.59s/it]",
      "\r  2%|▏         | 5/250 [00:08<05:27,  1.34s/it]",
      "\r  2%|▏         | 6/250 [00:08<04:45,  1.17s/it]",
      "\r  3%|▎         | 7/250 [00:09<04:18,  1.07s/it]",
      "\r  3%|▎         | 8/250 [00:11<04:49,  1.20s/it]",
      "\r  4%|▎         | 9/250 [00:12<04:20,  1.08s/it]",
      "\r  4%|▍         | 10/250 [00:12<04:03,  1.01s/it]",
      "\r  4%|▍         | 11/250 [00:13<03:56,  1.01it/s]",
      "\r  5%|▍         | 12/250 [00:14<03:50,  1.03it/s]",
      "\r  5%|▌         | 13/250 [00:36<28:08,  7.12s/it]",
      "\r 74%|███████▍  | 186/250 [00:36<05:19,  4.99s/it]",
      "\r100%|██████████| 250/250 [00:36<00:00,  6.88it/s]",
      "\n",
      "\rkde:   0%|          | 0/2 [00:00<?, ?it/s]",
      "\rkde:  50%|█████     | 1/2 [00:00<00:00,  1.02it/s]",
      "\rkde: 100%|██████████| 2/2 [00:01<00:00,  1.08it/s]",
      "\rkde: 100%|██████████| 2/2 [00:01<00:00,  1.12it/s]",
      "\n\r  0%|          | 0/250 [00:00<?, ?it/s]",
      "\r 75%|███████▍  | 187/250 [00:00<00:00, 1856.46it/s]",
      "\r100%|██████████| 250/250 [00:00<00:00, 1870.35it/s]",
      "\n"
     ],
     "output_type": "stream"
    }
   ],
   "source": [
    "test_lsa = fetch_lsa(model, x_train, x_test, \"test\", layer_names, args)\n",
    "target_lsa = fetch_lsa(model, x_train, x_test, \"target\", layer_names, args)\n",
    "# target_lsa = fetch_lsa(model, x_train, x_target, args.target, layer_names, args)\n",
    "target_cov = get_sc(\n",
    "    np.amin(target_lsa), default_upper_bound, default_n_bucket, target_lsa\n",
    ")\n",
    "\n",
    "# auc = compute_roc_auc(test_lsa, target_lsa)\n",
    "# print(infog(\"ROC-AUC: \" + str(auc * 100)))\n",
    "\n",
    "print(infog(\"LSA coverage: \" + str(target_cov)))\n"
   ],
   "metadata": {
    "collapsed": false,
    "pycharm": {
     "name": "#%%\n",
     "is_executing": false
    }
   }
  }
 ],
 "metadata": {
  "kernelspec": {
   "name": "python37564bitinnocondac6c0adcf834a42938fa02ac328c764a8",
   "language": "python",
   "display_name": "Python 3.7.5 64-bit ('inno': conda)"
  },
  "language_info": {
   "codemirror_mode": {
    "name": "ipython",
    "version": 2
   },
   "file_extension": ".py",
   "mimetype": "text/x-python",
   "name": "python",
   "nbconvert_exporter": "python",
   "pygments_lexer": "ipython2",
   "version": "2.7.6"
  },
  "pycharm": {
   "stem_cell": {
    "cell_type": "raw",
    "source": [],
    "metadata": {
     "collapsed": false
    }
   }
  }
 },
 "nbformat": 4,
 "nbformat_minor": 0
}