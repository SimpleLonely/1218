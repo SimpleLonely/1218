{
 "cells": [
  {
   "cell_type": "code",
   "execution_count": 1,
   "metadata": {},
   "outputs": [],
   "source": [
    "# import packages\n",
    "import pandas as pd\n",
    "import numpy as np\n",
    "from sklearn.metrics import accuracy_score, precision_score, recall_score\n",
    "from bt_classes import my_backtest, test_indicator\n",
    "# orig_df = pd.read_csv('../res/test_data.csv',index_col=0,parse_dates=True)\n",
    "# my_backtest(orig_df[:500])\n",
    "import matplotlib.pyplot as plt\n",
    "%matplotlib inline\n",
    "from matplotlib.pylab import rcParams\n",
    "import seaborn as sns\n",
    "from scipy.stats import pearsonr, spearmanr\n",
    "rcParams['figure.figsize'] = 20,10\n",
    "# df = pd.read_csv('../res/input0130.csv')\n",
    "\n",
    "orig_df = pd.read_csv('../xau_1d_20y.csv')\n",
    "orig_df['datetime'] = pd.to_datetime(orig_df['date'])\n",
    "orig_df = orig_df.set_index('datetime')\n",
    "\n",
    "df = orig_df.copy()\n",
    "df['log_r'] = np.log(df['close']) - np.log(df['open'])\n",
    "df['label'] = np.sign(df['log_r'].shift(-1))\n",
    "df['label'][df['label']==-1] = 0\n",
    "df['label'].fillna(0,inplace=True)"
   ]
  },
  {
   "cell_type": "code",
   "execution_count": 2,
   "metadata": {},
   "outputs": [
    {
     "output_type": "stream",
     "name": "stderr",
     "text": "Using TensorFlow backend.\n"
    }
   ],
   "source": [
    "#importing required libraries\n",
    "from keras.models import Sequential\n",
    "from keras.layers import Dense, Dropout, Activation, LSTM\n",
    "from keras.callbacks import EarlyStopping\n",
    "from keras.utils import to_categorical\n",
    "# follow the literature\n",
    "# we don't use min-max scaling here, use partial mean-std scaling instead\n",
    "from sklearn.preprocessing import StandardScaler\n",
    "from itertools import chain\n",
    "\n",
    "# and we define our model here\n",
    "def lstm_model(sample_len=120,para_a=42, para_b=17):\n",
    "    model = Sequential()\n",
    "    model.add(LSTM(units=para_a, dropout=0.1, return_sequences=True, input_shape=(sample_len,1),activation='tanh'))# (25,15)-57, (42,17)-58\n",
    "    model.add(LSTM(units=para_b, dropout=0.08, activation='tanh'))\n",
    "    # model.add(Dropout(0.08))# 加了之后同原先效果差不多，（应该一定程度上）可以防止过拟合\n",
    "    model.add(Dense(2, activation='softmax'))\n",
    "    model.compile(loss='categorical_crossentropy', optimizer='adam', metrics=['accuracy'])\n",
    "    return model"
   ]
  },
  {
   "cell_type": "code",
   "execution_count": 3,
   "metadata": {},
   "outputs": [
    {
     "output_type": "stream",
     "name": "stdout",
     "text": "WARNING:tensorflow:From D:\\Anaconda3\\envs\\inno\\lib\\site-packages\\keras\\backend\\tensorflow_backend.py:422: The name tf.global_variables is deprecated. Please use tf.compat.v1.global_variables instead.\n\nEpoch 1/30\n2000/2000 [==============================] - 5s 2ms/step - loss: 0.6923 - accuracy: 0.5330\nEpoch 2/30\n2000/2000 [==============================] - 4s 2ms/step - loss: 0.6913 - accuracy: 0.5290\nEpoch 3/30\n2000/2000 [==============================] - 4s 2ms/step - loss: 0.6911 - accuracy: 0.5240\nEpoch 4/30\n2000/2000 [==============================] - 4s 2ms/step - loss: 0.6911 - accuracy: 0.5240\nEpoch 5/30\n2000/2000 [==============================] - 4s 2ms/step - loss: 0.6911 - accuracy: 0.5295\nEpoch 6/30\n2000/2000 [==============================] - 4s 2ms/step - loss: 0.6906 - accuracy: 0.5305\nEpoch 7/30\n2000/2000 [==============================] - 4s 2ms/step - loss: 0.6903 - accuracy: 0.5305\nEpoch 8/30\n2000/2000 [==============================] - 4s 2ms/step - loss: 0.6906 - accuracy: 0.5260\nEpoch 9/30\n2000/2000 [==============================] - 4s 2ms/step - loss: 0.6905 - accuracy: 0.5240\nEpoch 10/30\n2000/2000 [==============================] - 4s 2ms/step - loss: 0.6919 - accuracy: 0.5240\nEpoch 11/30\n2000/2000 [==============================] - 4s 2ms/step - loss: 0.6904 - accuracy: 0.5305\nEpoch 12/30\n2000/2000 [==============================] - 4s 2ms/step - loss: 0.6911 - accuracy: 0.5295\nEpoch 13/30\n2000/2000 [==============================] - 4s 2ms/step - loss: 0.6910 - accuracy: 0.5175\nEpoch 14/30\n2000/2000 [==============================] - 4s 2ms/step - loss: 0.6899 - accuracy: 0.5320\nEpoch 15/30\n2000/2000 [==============================] - 4s 2ms/step - loss: 0.6905 - accuracy: 0.5290\nEpoch 16/30\n2000/2000 [==============================] - 4s 2ms/step - loss: 0.6903 - accuracy: 0.5305\nEpoch 17/30\n2000/2000 [==============================] - 4s 2ms/step - loss: 0.6900 - accuracy: 0.5295\nEpoch 18/30\n2000/2000 [==============================] - 4s 2ms/step - loss: 0.6909 - accuracy: 0.5310\nEpoch 19/30\n2000/2000 [==============================] - 4s 2ms/step - loss: 0.6908 - accuracy: 0.5265\nEpoch 20/30\n2000/2000 [==============================] - 4s 2ms/step - loss: 0.6903 - accuracy: 0.5310\nEpoch 21/30\n2000/2000 [==============================] - 4s 2ms/step - loss: 0.6898 - accuracy: 0.5310\nEpoch 22/30\n2000/2000 [==============================] - 4s 2ms/step - loss: 0.6899 - accuracy: 0.5270\nEpoch 23/30\n2000/2000 [==============================] - 4s 2ms/step - loss: 0.6893 - accuracy: 0.5305\nEpoch 24/30\n2000/2000 [==============================] - 4s 2ms/step - loss: 0.6892 - accuracy: 0.5380\nEpoch 25/30\n2000/2000 [==============================] - 4s 2ms/step - loss: 0.6893 - accuracy: 0.5280\nEpoch 26/30\n2000/2000 [==============================] - 4s 2ms/step - loss: 0.6890 - accuracy: 0.5315\nEpoch 27/30\n2000/2000 [==============================] - 4s 2ms/step - loss: 0.6892 - accuracy: 0.5360\nEpoch 28/30\n2000/2000 [==============================] - 4s 2ms/step - loss: 0.6895 - accuracy: 0.5275\nEpoch 29/30\n2000/2000 [==============================] - 4s 2ms/step - loss: 0.6885 - accuracy: 0.5325\nEpoch 30/30\n2000/2000 [==============================] - 4s 2ms/step - loss: 0.6878 - accuracy: 0.5430\n"
    },
    {
     "output_type": "execute_result",
     "data": {
      "text/plain": "<keras.callbacks.callbacks.History at 0x13c29518b08>"
     },
     "metadata": {},
     "execution_count": 3
    }
   ],
   "source": [
    "sample_len = 120\n",
    "train_begin = sample_len\n",
    "train_end = train_begin + 2000\n",
    "scaler = StandardScaler()\n",
    "train_set = df[['log_r','label']][train_begin-sample_len:train_end].reset_index()\n",
    "x_train, y_train = [], []\n",
    "x_train_set = list(chain.from_iterable(scaler.fit_transform(train_set['log_r'].values.reshape(-1,1))))\n",
    "for i in range(sample_len,len(x_train_set)):\n",
    "    x_train.append(x_train_set[i-sample_len:i])\n",
    "    y_train.append(train_set['label'][i])\n",
    "x_train, y_train = np.array(x_train), np.array(y_train)\n",
    "y_train = to_categorical(y_train,2)\n",
    "x_train = np.reshape(x_train, (x_train.shape[0],x_train.shape[1],1)) \n",
    "\n",
    "model = lstm_model(sample_len=sample_len)\n",
    "model.fit(x_train,y_train,epochs=30, batch_size=100, callbacks=[EarlyStopping(monitor='loss',patience=10)])"
   ]
  },
  {
   "cell_type": "code",
   "execution_count": 4,
   "metadata": {},
   "outputs": [],
   "source": [
    "model.save('d120-2120.h5')  # d日频，240-2240天"
   ]
  },
  {
   "cell_type": "code",
   "execution_count": 4,
   "metadata": {},
   "outputs": [
    {
     "output_type": "stream",
     "name": "stdout",
     "text": "WARNING:tensorflow:From D:\\Anaconda3\\envs\\inno\\lib\\site-packages\\keras\\backend\\tensorflow_backend.py:422: The name tf.global_variables is deprecated. Please use tf.compat.v1.global_variables instead.\n\n"
    }
   ],
   "source": [
    "from keras.models import load_model\n",
    "model = load_model('d240-2240_120.h5')  "
   ]
  },
  {
   "cell_type": "code",
   "execution_count": 5,
   "metadata": {},
   "outputs": [],
   "source": [
    "from tqdm import tqdm\n",
    "from sa import *\n",
    "from utils import *\n",
    "\n",
    "# Please select the last activation layer.\n",
    "layer_names = ['lstm_2']\n",
    "\n",
    "default_upper_bound = 2000\n",
    "default_n_bucket = 1000\n",
    "default_n_classes = 2\n",
    "class Args(): #创建一个类\n",
    "    def __init__(self): #定义初始化信息。\n",
    "        self.is_classification = True\n",
    "        self.save_path = './tmp/'\n",
    "        self.d = 'lstm_r'\n",
    "        self.num_classes = 2\n",
    "        self.lsa = True\n",
    "        self.dsa = True\n",
    "        self.target = 'none'\n",
    "        self.batch_size = 128\n",
    "        self.var_threshold = 1e-5\n",
    "        self.upper_bound = 2000\n",
    "        self.n_bucket = 1000\n",
    "        self.is_classification = True\n",
    "args = Args()"
   ]
  },
  {
   "cell_type": "code",
   "execution_count": null,
   "metadata": {},
   "outputs": [],
   "source": [
    "import numpy as np\n",
    " \n",
    "def cross_entropy(y_true, y_pred):\n",
    "    \n",
    "    Y = np.float_(Y)\n",
    "    P = np.float_(P)\n",
    "    return -np.sum(Y * np.log(P) + (1 - Y) * np.log(1 - P))"
   ]
  },
  {
   "cell_type": "code",
   "execution_count": 6,
   "metadata": {},
   "outputs": [
    {
     "output_type": "error",
     "ename": "AssertionError",
     "evalue": "Length of y is 130 while y_pred 250",
     "traceback": [
      "\u001b[1;31m---------------------------------------------------------------------------\u001b[0m",
      "\u001b[1;31mAssertionError\u001b[0m                            Traceback (most recent call last)",
      "\u001b[1;32m<ipython-input-6-8f7ac2d5b2b9>\u001b[0m in \u001b[0;36m<module>\u001b[1;34m\u001b[0m\n\u001b[0;32m     20\u001b[0m     \u001b[0my_pred\u001b[0m \u001b[1;33m=\u001b[0m \u001b[0mmodel\u001b[0m\u001b[1;33m.\u001b[0m\u001b[0mpredict_classes\u001b[0m\u001b[1;33m(\u001b[0m\u001b[0mx_test\u001b[0m\u001b[1;33m)\u001b[0m\u001b[1;33m\u001b[0m\u001b[1;33m\u001b[0m\u001b[0m\n\u001b[0;32m     21\u001b[0m \u001b[1;33m\u001b[0m\u001b[0m\n\u001b[1;32m---> 22\u001b[1;33m     \u001b[0mti\u001b[0m \u001b[1;33m=\u001b[0m \u001b[0mtest_indicator\u001b[0m\u001b[1;33m(\u001b[0m\u001b[0my_true\u001b[0m\u001b[1;33m,\u001b[0m\u001b[0my_pred\u001b[0m\u001b[1;33m)\u001b[0m\u001b[1;33m\u001b[0m\u001b[1;33m\u001b[0m\u001b[0m\n\u001b[0m\u001b[0;32m     23\u001b[0m     \u001b[1;31m# to_save = pd.DataFrame()\u001b[0m\u001b[1;33m\u001b[0m\u001b[1;33m\u001b[0m\u001b[1;33m\u001b[0m\u001b[0m\n\u001b[0;32m     24\u001b[0m     \u001b[1;31m# to_save['y_true'] = y_true\u001b[0m\u001b[1;33m\u001b[0m\u001b[1;33m\u001b[0m\u001b[1;33m\u001b[0m\u001b[0m\n",
      "\u001b[1;32me:\\Documents\\GitHub\\1218\\src\\bt_classes.py\u001b[0m in \u001b[0;36m__init__\u001b[1;34m(self, y_true, y_pred)\u001b[0m\n\u001b[0;32m    158\u001b[0m \u001b[1;32mclass\u001b[0m \u001b[0mtest_indicator\u001b[0m\u001b[1;33m(\u001b[0m\u001b[1;33m)\u001b[0m\u001b[1;33m:\u001b[0m\u001b[1;33m\u001b[0m\u001b[1;33m\u001b[0m\u001b[0m\n\u001b[0;32m    159\u001b[0m     \u001b[1;32mdef\u001b[0m \u001b[0m__init__\u001b[0m\u001b[1;33m(\u001b[0m\u001b[0mself\u001b[0m\u001b[1;33m,\u001b[0m \u001b[0my_true\u001b[0m\u001b[1;33m,\u001b[0m \u001b[0my_pred\u001b[0m\u001b[1;33m)\u001b[0m\u001b[1;33m:\u001b[0m\u001b[1;33m\u001b[0m\u001b[1;33m\u001b[0m\u001b[0m\n\u001b[1;32m--> 160\u001b[1;33m         \u001b[1;32massert\u001b[0m \u001b[0mlen\u001b[0m\u001b[1;33m(\u001b[0m\u001b[0my_pred\u001b[0m\u001b[1;33m)\u001b[0m \u001b[1;33m==\u001b[0m \u001b[0mlen\u001b[0m\u001b[1;33m(\u001b[0m\u001b[0my_true\u001b[0m\u001b[1;33m)\u001b[0m\u001b[1;33m,\u001b[0m \u001b[1;34mf'Length of y is {len(y_pred)} while y_pred {len(y_true)}'\u001b[0m\u001b[1;33m\u001b[0m\u001b[1;33m\u001b[0m\u001b[0m\n\u001b[0m\u001b[0;32m    161\u001b[0m         \u001b[0mself\u001b[0m\u001b[1;33m.\u001b[0m\u001b[0my_pred\u001b[0m \u001b[1;33m=\u001b[0m \u001b[0my_pred\u001b[0m\u001b[1;33m\u001b[0m\u001b[1;33m\u001b[0m\u001b[0m\n\u001b[0;32m    162\u001b[0m         \u001b[0mself\u001b[0m\u001b[1;33m.\u001b[0m\u001b[0my_true\u001b[0m \u001b[1;33m=\u001b[0m \u001b[0my_true\u001b[0m\u001b[1;33m\u001b[0m\u001b[1;33m\u001b[0m\u001b[0m\n",
      "\u001b[1;31mAssertionError\u001b[0m: Length of y is 130 while y_pred 250"
     ]
    }
   ],
   "source": [
    "test_len = 250\n",
    "step = 25\n",
    "starter = range(2120,len(df)-test_len,step)\n",
    "all_results = []\n",
    "layer_names = ['lstm_2']\n",
    "for test_begin in starter:\n",
    "    test_end = test_begin + test_len\n",
    "\n",
    "    x_test, y_test = [], []\n",
    "    test_set = df[['log_r','label']][test_begin-250:test_end].reset_index()\n",
    "    y_true = df['label'][test_begin:test_end]\n",
    "    x_test_set = list(chain.from_iterable(scaler.transform(test_set['log_r'].values.reshape(-1,1))))\n",
    "    for i in range(sample_len,len(x_test_set)):\n",
    "        x_test.append(x_test_set[i-sample_len:i])\n",
    "        y_test.append(test_set['label'][i])\n",
    "    x_test, y_test = np.array(x_test), np.array(y_test)\n",
    "    x_test = np.reshape(x_test, (x_test.shape[0],x_test.shape[1],1)) \n",
    "    y_test = to_categorical(y_test,2)\n",
    "\n",
    "    y_pred = model.predict_classes(x_test)\n",
    "\n",
    "    ti = test_indicator(y_true,y_pred)\n",
    "    # to_save = pd.DataFrame()\n",
    "    # to_save['y_true'] = y_true\n",
    "    # to_save['y_pred'] = y_pred\n",
    "    # to_save.to_csv(f'{test_begin}_{test_end}_test.csv')\n",
    "    test_dsa = fetch_dsa(model, x_train, x_test, 'dsa from{}'.format(test_begin), layer_names, args)\n",
    "    dsa_cov = get_sc(np.amin(test_dsa), 5, 20, test_dsa)\n",
    "    test_lsa = fetch_lsa(model, x_train, x_test, 'lsa from{}'.format(test_begin), layer_names, args)\n",
    "    lsa_cov = get_sc(np.amin(test_lsa), 1500, 20, test_lsa)\n",
    "    eva = model.evaluate(x_test, y_test)\n",
    "    mark = pd.DataFrame()\n",
    "    mark['y_true'] = y_true\n",
    "    mark['y_pred'] = y_pred\n",
    "    mark['win'] = 0\n",
    "    mark['win'].loc[mark['y_true']==mark['y_pred']] = 1\n",
    "    mark['lsa'] = test_lsa\n",
    "    mark['dsa'] = test_dsa\n",
    "    lsa_win_pearson = mark[['win','lsa']].corr().iloc[0,1]\n",
    "    lsa_win_spearman = mark[['win','lsa']].corr(method='spearman').iloc[0,1]\n",
    "    dsa_win_pearson = mark[['win','dsa']].corr().iloc[0,1]\n",
    "    dsa_win_spearman = mark[['win','dsa']].corr(method='spearman').iloc[0,1]\n",
    "    print('Loss: {:.2f}, Accuracy: {:.2f}'.format(eva[0], eva[1]))\n",
    "    print('Dsa Mean: {:.2f}, Var: {:.2f}, Max: {:.2f}, Min: {:.2f}'.format(np.mean(test_dsa),np.std(test_dsa),np.max(test_dsa),np.min(test_dsa)))\n",
    "    print('Lsa Mean: {:.2f}, Var: {:.2f}, Max: {:.2f}, Min: {:.2f}'.format(np.mean(test_lsa),np.std(test_lsa),np.max(test_lsa),np.min(test_lsa)))\n",
    "    test_df = orig_df[test_begin:test_end]\n",
    "    test_df['label'] = model.predict_classes(x_test)\n",
    "    sharpe,dd,ar = my_backtest(test_df)\n",
    "    this_result = [test_begin,test_end,eva[0],eva[1],ti.get_precision(),ti.get_recall(),ti.get_successive_n_failure_rate(),dsa_cov,np.mean(test_dsa),np.std(test_dsa),np.max(test_dsa),np.min(test_dsa),lsa_cov,np.mean(test_lsa),np.std(test_lsa),np.max(test_lsa),np.min(test_lsa),sharpe,dd,ar,lsa_win_pearson,dsa_win_pearson,lsa_win_spearman,dsa_win_spearman]\n",
    "    all_results.append(this_result)\n",
    "    rs = pd.DataFrame(all_results,columns=['test_begin','test_end','loss','accuracy','precision','recall','snfr','dsa_cov','dsa_mean','dsa_std','dsa_max','dsa_min','lsa_cov','lsa_mean','lsa_std','lsa_max','lsa_min','sharpe','drawdown','annual','lsa_win_pearson','dsa_win_pearson','lsa_win_spearman','dsa_win_spearman'])\n",
    "    rs.to_csv('new_rs.csv')"
   ]
  },
  {
   "cell_type": "code",
   "execution_count": null,
   "metadata": {},
   "outputs": [],
   "source": []
  }
 ],
 "metadata": {
  "language_info": {
   "codemirror_mode": {
    "name": "ipython",
    "version": 3
   },
   "file_extension": ".py",
   "mimetype": "text/x-python",
   "name": "python",
   "nbconvert_exporter": "python",
   "pygments_lexer": "ipython3",
   "version": "3.7.5-final"
  },
  "orig_nbformat": 2,
  "kernelspec": {
   "name": "python37564bit39c99c26652f4524b29e55ad15e6988f",
   "display_name": "Python 3.7.5 64-bit"
  }
 },
 "nbformat": 4,
 "nbformat_minor": 2
}