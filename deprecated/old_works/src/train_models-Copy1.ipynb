{
 "cells": [
  {
   "cell_type": "code",
   "execution_count": 1,
   "metadata": {},
   "outputs": [
    {
     "name": "stderr",
     "output_type": "stream",
     "text": [
      "Using TensorFlow backend.\n"
     ]
    }
   ],
   "source": [
    "# import packages\n",
    "import os\n",
    "os.environ[\"TF_FORCE_GPU_ALLOW_GROWTH\"] = \"true\"\n",
    "import warnings\n",
    "warnings.filterwarnings('ignore')\n",
    "import seaborn as sns\n",
    "import pandas as pd\n",
    "import numpy as np\n",
    "from sklearn.metrics import accuracy_score, precision_score, recall_score, log_loss\n",
    "from bt_classes import my_backtest, test_indicator\n",
    "import matplotlib.pyplot as plt\n",
    "%matplotlib inline\n",
    "from matplotlib.pylab import rcParams\n",
    "import seaborn as sns\n",
    "from scipy.stats import pearsonr, spearmanr\n",
    "#importing required libraries\n",
    "from keras.models import Sequential\n",
    "from keras.layers import Dense, Dropout, Activation, LSTM, CuDNNLSTM\n",
    "from keras.callbacks import EarlyStopping\n",
    "from keras.utils import to_categorical\n",
    "from tqdm import tqdm\n",
    "from sa import *\n",
    "from utils import *\n",
    "# follow the literature\n",
    "# we don't use min-max scaling here, use partial mean-std scaling instead\n",
    "from sklearn.preprocessing import StandardScaler\n",
    "from itertools import chain\n",
    "rcParams['figure.figsize'] = 20,10\n",
    "# df = pd.read_csv('../res/input0130.csv')\n",
    "\n",
    "orig_df = pd.read_csv('../xau_1d_20y.csv')\n",
    "orig_df['datetime'] = pd.to_datetime(orig_df['date'])\n",
    "orig_df = orig_df.set_index('datetime')\n",
    "\n",
    "df = orig_df.copy()\n",
    "df['log_r'] = np.log(df['close']) - np.log(df['open'])\n",
    "df['label'] = np.sign(df['log_r'].shift(-1))\n",
    "df['label'][df['label']==-1] = 0\n",
    "df['label'].fillna(0,inplace=True)"
   ]
  },
  {
   "cell_type": "code",
   "execution_count": 2,
   "metadata": {},
   "outputs": [],
   "source": [
    "# and we define our model here\n",
    "def lstm_model(sample_len=240,para_a=42, para_b=17,drop1=0.05,drop2=0.02):\n",
    "    model = Sequential()\n",
    "    # model.add(LSTM(units=para_a, dropout=0.1, return_sequences=True, input_shape=(sample_len,1),activation='tanh'))# (25,15)-57, (42,17)-58\n",
    "    # model.add(LSTM(units=para_b, dropout=0.08, activation='tanh'))\n",
    "    model.add(CuDNNLSTM(units=para_a, return_sequences=True, input_shape=(sample_len,1)))# (25,15)-57, (42,17)-58\n",
    "    model.add(Dropout(drop1))\n",
    "    model.add(Activation('tanh'))\n",
    "    model.add(CuDNNLSTM(units=para_b))\n",
    "    model.add(Dropout(drop2))\n",
    "    model.add(Activation('tanh'))\n",
    "    # model.add(Dropout(0.08))# 加了之后同原先效果差不多，（应该一定程度上）可以防止过拟合\n",
    "    model.add(Dense(2, activation='softmax'))\n",
    "    model.compile(loss='categorical_crossentropy', optimizer='adam', metrics=['accuracy'])\n",
    "    return model\n"
   ]
  },
  {
   "cell_type": "code",
   "execution_count": null,
   "metadata": {
    "scrolled": true
   },
   "outputs": [
    {
     "name": "stdout",
     "output_type": "stream",
     "text": [
      "WARNING:tensorflow:From D:\\Anaconda3\\envs\\inno\\lib\\site-packages\\keras\\backend\\tensorflow_backend.py:422: The name tf.global_variables is deprecated. Please use tf.compat.v1.global_variables instead.\n",
      "\n",
      "[[15, 48, 48, 30, 100, 0.6835815704663595, 0.5526666641235352, 0.7459641981124878, 0.4699999988079071, 1.0294309197009317], [15, 48, 48, 30, 100, 0.6860315124193828, 0.5573333501815796, 0.7084885816574097, 0.5040000081062317, 0.9984016297680356], [15, 48, 48, 30, 100, 0.6851288811365763, 0.5453333258628845, 0.7274173169136048, 0.48399999737739563, 1.0675803571786175]]\n",
      "[[15, 48, 48, 30, 200, 0.6874014088312785, 0.5433333516120911, 0.7208447275161743, 0.49799999594688416, 0.989349374596915], [15, 48, 48, 30, 200, 0.6872293017705282, 0.5419999957084656, 0.7163364753723145, 0.49399998784065247, 0.9555670427404062], [15, 48, 48, 30, 200, 0.6881373391151429, 0.5333333611488342, 0.7216811270713807, 0.4740000069141388, 0.9911550357652333]]\n",
      "[[15, 48, 48, 60, 100, 0.6558367225329081, 0.5839999914169312, 0.8177469816207886, 0.5260000228881836, 1.0372842313332367], [15, 48, 48, 60, 100, 0.6603273526827494, 0.5839999914169312, 0.747037931919098, 0.515999972820282, 1.0031427186349582], [15, 48, 48, 60, 100, 0.6522299954096477, 0.5853333473205566, 0.8173102688789368, 0.5099999904632568, 0.9677279451350731]]\n",
      "[[15, 48, 48, 60, 200, 0.6726816771825155, 0.5586666464805603, 0.7868865694999695, 0.5199999809265137, 0.9619205771780021], [15, 48, 48, 60, 200, 0.6763473281860352, 0.5580000281333923, 0.7867373952865601, 0.49000000953674316, 0.8872164648006887], [15, 48, 48, 60, 200, 0.6726572688420613, 0.5540000200271606, 0.7856307678222656, 0.492000013589859, 1.0214133587104295]]\n",
      "[[15, 48, 96, 30, 100, 0.6858322857220968, 0.5360000133514404, 0.7170610918998718, 0.5139999985694885, 1.046144171477946], [15, 48, 96, 30, 100, 0.6858966684341431, 0.5446666479110718, 0.7165228376388549, 0.5120000243186951, 1.0274914402795912], [15, 48, 96, 30, 100, 0.6837287004788717, 0.5400000214576721, 0.7230795679092408, 0.5199999809265137, 1.0213024088757328]]\n"
     ]
    }
   ],
   "source": [
    "# grid search here:\n",
    "grid_result = []\n",
    "for sample_len in [15,30]:\n",
    "    for p1 in [48,96,192]:\n",
    "        for p2 in [48,96,192]:\n",
    "            for epoch in [30,60]:\n",
    "                for batch_size in [100,200]:\n",
    "                    result = []\n",
    "                    for train_begin in range(sample_len,len(df)-2000,1500):\n",
    "                        train_begin = sample_len\n",
    "                        train_end = train_begin + 1500\n",
    "                        scaler = StandardScaler()\n",
    "                        train_set = df[['log_r','label']][train_begin-sample_len:train_end].reset_index()\n",
    "                        x_train, y_train = [], []\n",
    "                        x_train_set = list(chain.from_iterable(scaler.fit_transform(train_set['log_r'].values.reshape(-1,1))))\n",
    "                        for i in range(sample_len,len(x_train_set)):\n",
    "                            x_train.append(x_train_set[i-sample_len:i])\n",
    "                            y_train.append(train_set['label'][i-1])\n",
    "                        x_train, y_train = np.array(x_train), np.array(y_train)\n",
    "                        y_train = to_categorical(y_train,2)\n",
    "                        x_train = np.reshape(x_train, (x_train.shape[0],x_train.shape[1],1)) \n",
    "\n",
    "                        test_len = 500\n",
    "                        test_begin = train_end + sample_len\n",
    "                        test_end = test_begin + test_len\n",
    "\n",
    "                        x_test, y_test = [], []\n",
    "                        test_set = df[['log_r','label']][test_begin-sample_len:test_end].reset_index()\n",
    "                        test_df = df[test_begin:test_end]\n",
    "                        x_test_set = list(chain.from_iterable(scaler.transform(test_set['log_r'].values.reshape(-1,1))))\n",
    "                        for i in range(sample_len,len(x_test_set)):\n",
    "                            x_test.append(x_test_set[i-sample_len:i])\n",
    "                            y_test.append(test_set['label'][i-1])\n",
    "                        test_df['y_true'] = y_test\n",
    "                        x_test, y_test = np.array(x_test), np.array(y_test)\n",
    "                        x_test = np.reshape(x_test, (x_test.shape[0],x_test.shape[1],1)) \n",
    "                        y_test = to_categorical(y_test,2)\n",
    "                        model = lstm_model(sample_len=sample_len,para_a=p1,para_b=p2)\n",
    "                        model.fit(x_train,y_train,epochs=epoch, batch_size=batch_size, callbacks=[EarlyStopping(monitor='loss',patience=10)],verbose=0)\n",
    "                        train_loss,train_acc = model.evaluate(x_train, y_train,verbose=0)\n",
    "                        test_loss,test_acc = model.evaluate(x_test, y_test,verbose=0)\n",
    "                        y_pred = model.predict_classes(x_test)\n",
    "                        test_df['y_pred'] = y_pred\n",
    "                        test_df['log_profit'] = 2*(test_df['y_pred']-0.5)*test_df['log_r']\n",
    "                        win_profit = test_df['log_profit'].loc[test_df['y_true']==test_df['y_pred']].mean()\n",
    "                        lose_profit = test_df['log_profit'].loc[test_df['y_true']!=test_df['y_pred']].mean()\n",
    "                        wtl = abs(win_profit / lose_profit)\n",
    "                        this_result = [sample_len,p1,p2,epoch,batch_size,train_loss,train_acc,test_loss,test_acc,wtl]\n",
    "                        result.append(this_result)\n",
    "                    print(result)\n",
    "                    grid_result.append(np.mean(result,axis=0).tolist())\n",
    "                    res = pd.DataFrame(grid_result,columns=['sample_len','p1','p2','epoch','batch_size','train_loss','train_acc','test_loss','test_acc','wtl'])\n",
    "                    res.to_csv(f'grid_result_{sample_len}.csv')\n",
    "\n"
   ]
  },
  {
   "cell_type": "code",
   "execution_count": null,
   "metadata": {},
   "outputs": [],
   "source": []
  }
 ],
 "metadata": {
  "kernelspec": {
   "display_name": "Python 3.7.5 64-bit",
   "language": "python",
   "name": "python37564bit39c99c26652f4524b29e55ad15e6988f"
  },
  "language_info": {
   "codemirror_mode": {
    "name": "ipython",
    "version": 3
   },
   "file_extension": ".py",
   "mimetype": "text/x-python",
   "name": "python",
   "nbconvert_exporter": "python",
   "pygments_lexer": "ipython3",
   "version": "3.7.5"
  }
 },
 "nbformat": 4,
 "nbformat_minor": 2
}
