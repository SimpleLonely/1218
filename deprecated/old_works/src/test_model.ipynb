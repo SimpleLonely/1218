{
 "cells": [
  {
   "cell_type": "code",
   "execution_count": 2,
   "metadata": {
    "pycharm": {
     "is_executing": false
    }
   },
   "outputs": [],
   "source": [
    "# import packages\n",
    "import pandas as pd\n",
    "import numpy as np\n",
    "from sklearn.preprocessing import StandardScaler\n",
    "from itertools import chain\n",
    "%matplotlib inline\n",
    "# df = pd.read_csv('../res/input0130.csv',index_col=0)\n",
    "# orig_df = pd.read_csv('../xau_1d_20y.csv')\n",
    "# orig_df['log_r'] = df['log_r']\n",
    "# orig_df['label'] = df['label']"
   ]
  },
  {
   "cell_type": "code",
   "execution_count": 3,
   "metadata": {
    "pycharm": {
     "is_executing": false
    }
   },
   "outputs": [],
   "source": [
    "# orig_df['date'] = pd.to_datetime(orig_df['date'])\n",
    "# orig_df = orig_df.set_index('date')"
   ]
  },
  {
   "cell_type": "code",
   "execution_count": 3,
   "metadata": {},
   "outputs": [],
   "source": [
    "# orig_df.fillna(0).to_csv('../res/test_data.csv')\n",
    "# orig_df.fillna(0, inplace=True)"
   ]
  },
  {
   "cell_type": "code",
   "execution_count": 4,
   "metadata": {},
   "outputs": [],
   "source": [
    "orig_df = pd.read_csv('../res/test_data.csv',index_col=0,parse_dates=True)"
   ]
  },
  {
   "cell_type": "code",
   "execution_count": 5,
   "metadata": {},
   "outputs": [],
   "source": [
    "from __future__ import (absolute_import, division, print_function, unicode_literals)\n",
    "import backtrader as bt"
   ]
  },
  {
   "cell_type": "code",
   "execution_count": 6,
   "metadata": {},
   "outputs": [],
   "source": [
    "from bt_classes import *"
   ]
  },
  {
   "cell_type": "code",
   "execution_count": 26,
   "metadata": {
    "tags": [
     "outputPrepend"
    ]
   },
   "outputs": [],
   "source": [
    "def my_backtest(mydata, iplot=False):\n",
    "    import matplotlib.pyplot as plt\n",
    "    plt.rcParams['figure.figsize'] = 12,8\n",
    "    cerebro = bt.Cerebro()\n",
    "    data = MyPandasData(dataname=mydata)\n",
    "    cerebro.adddata(data)\n",
    "    cerebro.addstrategy(GoldStrategy)\n",
    "    cerebro.addsizer(OptInvest)\n",
    "    init_value= 100000.0\n",
    "    cerebro.broker.setcash(init_value)\n",
    "    cerebro.broker.setcommission(commission=50,margin=1000,mult=100)\n",
    "    cerebro.addanalyzer(bt.analyzers.SharpeRatio_A, _name='sharpe')\n",
    "    cerebro.addanalyzer(bt.analyzers.TradeAnalyzer, _name='trade')\n",
    "    cerebro.addanalyzer(bt.analyzers.DrawDown, _name='dd')\n",
    "    cerebro.addanalyzer(bt.analyzers.Returns, _name='returns')\n",
    "    cerebro.addanalyzer(bt.analyzers.AnnualReturn, _name='ar')\n",
    "    print('Starting Portfolio Value: %.2f' % cerebro.broker.getvalue())\n",
    "    thestrats = cerebro.run()\n",
    "    final_value = cerebro.broker.getvalue()\n",
    "    print('Final Portfolio Value: %.2f' % final_value)\n",
    "    cerebro.plot(iplot=iplot,volume=False)\n",
    "    print('Sharpe: {:.2f}'.format(thestrats[0].analyzers.sharpe.get_analysis()['sharperatio']))\n",
    "    print('Max drawdown: {:.2}%'.format(thestrats[0].analyzers.dd.get_analysis()['max']['drawdown']))\n",
    "    print('Annual rate: {:.2f}%'.format(thestrats[0].analyzers.returns.get_analysis()['rnorm100']))\n",
    "\n",
    "my_backtest(orig_df[:500],True)"
   ]
  },
  {
   "cell_type": "code",
   "execution_count": 23,
   "metadata": {},
   "outputs": [],
   "source": [
    "import matplotlib.pyplot as plt\n",
    "plt.rcParams['figure.figsize'] = 12,8\n",
    "cerebro = bt.Cerebro()\n",
    "# data = MyData(dataname='../res/test_data.csv')\n",
    "data = MyPandasData(dataname=orig_df[:500])\n",
    "cerebro.adddata(data)\n",
    "cerebro.addstrategy(GoldStrategy)\n",
    "cerebro.addsizer(OptInvest)\n",
    "init_value= 100000.0\n",
    "cerebro.broker.setcash(init_value)\n",
    "cerebro.broker.setcommission(commission=50,margin=1000,mult=100)\n",
    "cerebro.addanalyzer(bt.analyzers.SharpeRatio_A, _name='sharpe')\n",
    "cerebro.addanalyzer(bt.analyzers.TradeAnalyzer, _name='trade')\n",
    "cerebro.addanalyzer(bt.analyzers.DrawDown, _name='dd')\n",
    "cerebro.addanalyzer(bt.analyzers.Returns, _name='returns')\n",
    "cerebro.addanalyzer(bt.analyzers.AnnualReturn, _name='ar')\n",
    "print('Starting Portfolio Value: %.2f' % cerebro.broker.getvalue())\n",
    "thestrats = cerebro.run()\n",
    "final_value = cerebro.broker.getvalue()\n",
    "print('Final Portfolio Value: %.2f' % final_value)\n",
    "cerebro.plot(iplot=False,volume=False)\n",
    "print('Sharpe: {:.2f}'.format(thestrats[0].analyzers.sharpe.get_analysis()['sharperatio']))\n",
    "print('Max drawdown: {:.2}%'.format(thestrats[0].analyzers.dd.get_analysis()['max']['drawdown']))\n",
    "print('Annual rate: {:.2f}%'.format(thestrats[0].analyzers.returns.get_analysis()['rnorm100']))"
   ]
  },
  {
   "cell_type": "code",
   "execution_count": 8,
   "metadata": {},
   "outputs": [],
   "source": [
    "final_value/init_value - 1"
   ]
  },
  {
   "cell_type": "code",
   "execution_count": 9,
   "metadata": {},
   "outputs": [],
   "source": []
  },
  {
   "cell_type": "code",
   "execution_count": 18,
   "metadata": {},
   "outputs": [],
   "source": [
    "'{:.2}%'.format(thestrats[0].analyzers.dd.get_analysis()['max']['drawdown'])"
   ]
  },
  {
   "cell_type": "code",
   "execution_count": 21,
   "metadata": {},
   "outputs": [],
   "source": [
    "print('Annual rate: {:.2f}%'.format(thestrats[0].analyzers.returns.get_analysis()['rnorm100']))"
   ]
  },
  {
   "cell_type": "code",
   "execution_count": 12,
   "metadata": {},
   "outputs": [],
   "source": [
    "thestrats[0].analyzers.ar.get_analysis()"
   ]
  },
  {
   "cell_type": "code",
   "execution_count": 13,
   "metadata": {},
   "outputs": [],
   "source": [
    "thestrats[0].analyzers.trade.get_analysis()"
   ]
  },
  {
   "cell_type": "code",
   "execution_count": null,
   "metadata": {},
   "outputs": [],
   "source": []
  }
 ],
 "metadata": {
  "file_extension": ".py",
  "kernelspec": {
   "display_name": "Python 3.7.5 64-bit",
   "language": "python",
   "name": "python37564bit39c99c26652f4524b29e55ad15e6988f"
  },
  "language_info": {
   "codemirror_mode": {
    "name": "ipython",
    "version": 3
   },
   "file_extension": ".py",
   "mimetype": "text/x-python",
   "name": "python",
   "nbconvert_exporter": "python",
   "pygments_lexer": "ipython3",
   "version": "3.7.5"
  },
  "mimetype": "text/x-python",
  "name": "python",
  "npconvert_exporter": "python",
  "pygments_lexer": "ipython3",
  "version": 3
 },
 "nbformat": 4,
 "nbformat_minor": 2
}
