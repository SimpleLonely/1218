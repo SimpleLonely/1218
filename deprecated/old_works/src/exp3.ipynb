{
 "cells": [
  {
   "cell_type": "code",
   "execution_count": 1,
   "metadata": {},
   "outputs": [],
   "source": [
    "# import packages\n",
    "import pandas as pd\n",
    "import numpy as np\n",
    "from sklearn.metrics import accuracy_score, precision_score, recall_score\n",
    "from bt_classes import my_backtest, test_indicator\n",
    "# orig_df = pd.read_csv('../res/test_data.csv',index_col=0,parse_dates=True)\n",
    "# my_backtest(orig_df[:500])\n",
    "import matplotlib.pyplot as plt\n",
    "%matplotlib inline\n",
    "from matplotlib.pylab import rcParams\n",
    "import seaborn as sns\n",
    "from scipy.stats import pearsonr, spearmanr\n",
    "rcParams['figure.figsize'] = 20,10\n",
    "# df = pd.read_csv('../res/input0130.csv')\n",
    "\n",
    "orig_df = pd.read_csv('../xau_1d_20y.csv')\n",
    "orig_df['datetime'] = pd.to_datetime(orig_df['date'])\n",
    "orig_df = orig_df.set_index('datetime')\n",
    "\n",
    "df = orig_df.copy()\n",
    "df['log_r'] = np.log(df['close']) - np.log(df['open'])\n",
    "df['label'] = np.sign(df['log_r'].shift(-1))\n",
    "df['label'][df['label']==-1] = 0\n",
    "df['label'].fillna(0,inplace=True)"
   ]
  },
  {
   "cell_type": "code",
   "execution_count": 2,
   "metadata": {},
   "outputs": [
    {
     "output_type": "stream",
     "name": "stderr",
     "text": "Using TensorFlow backend.\n"
    }
   ],
   "source": [
    "#importing required libraries\n",
    "from keras.models import Sequential\n",
    "from keras.layers import Dense, Dropout, Activation, LSTM\n",
    "from keras.callbacks import EarlyStopping\n",
    "from keras.utils import to_categorical\n",
    "# follow the literature\n",
    "# we don't use min-max scaling here, use partial mean-std scaling instead\n",
    "from sklearn.preprocessing import StandardScaler\n",
    "from itertools import chain\n",
    "\n",
    "# and we define our model here\n",
    "def lstm_model(sample_len=240,para_a=42, para_b=17):\n",
    "    model = Sequential()\n",
    "    model.add(LSTM(units=para_a, dropout=0.1, return_sequences=True, input_shape=(sample_len,1),activation='tanh'))# (25,15)-57, (42,17)-58\n",
    "    model.add(LSTM(units=para_b, dropout=0.08, activation='tanh'))\n",
    "    # model.add(Dropout(0.08))# 加了之后同原先效果差不多，（应该一定程度上）可以防止过拟合\n",
    "    model.add(Dense(2, activation='softmax'))\n",
    "    model.compile(loss='categorical_crossentropy', optimizer='adam', metrics=['accuracy'])\n",
    "    return model"
   ]
  },
  {
   "cell_type": "code",
   "execution_count": 6,
   "metadata": {},
   "outputs": [
    {
     "output_type": "stream",
     "name": "stdout",
     "text": "Epoch 1/100\n2000/2000 [==============================] - 1s 507us/step - loss: 0.6930 - accuracy: 0.5075\nEpoch 2/100\n2000/2000 [==============================] - 1s 295us/step - loss: 0.6921 - accuracy: 0.5135\nEpoch 3/100\n2000/2000 [==============================] - 1s 297us/step - loss: 0.6917 - accuracy: 0.5220\nEpoch 4/100\n2000/2000 [==============================] - 1s 296us/step - loss: 0.6922 - accuracy: 0.5130\nEpoch 5/100\n2000/2000 [==============================] - 1s 290us/step - loss: 0.6913 - accuracy: 0.5190\nEpoch 6/100\n2000/2000 [==============================] - 1s 291us/step - loss: 0.6921 - accuracy: 0.5175\nEpoch 7/100\n2000/2000 [==============================] - 1s 292us/step - loss: 0.6924 - accuracy: 0.5195\nEpoch 8/100\n2000/2000 [==============================] - 1s 291us/step - loss: 0.6909 - accuracy: 0.5165\nEpoch 9/100\n2000/2000 [==============================] - 1s 299us/step - loss: 0.6912 - accuracy: 0.5265\nEpoch 10/100\n2000/2000 [==============================] - 1s 292us/step - loss: 0.6909 - accuracy: 0.5250\nEpoch 11/100\n2000/2000 [==============================] - 1s 293us/step - loss: 0.6912 - accuracy: 0.5155\nEpoch 12/100\n2000/2000 [==============================] - 1s 292us/step - loss: 0.6910 - accuracy: 0.5175\nEpoch 13/100\n2000/2000 [==============================] - 1s 297us/step - loss: 0.6913 - accuracy: 0.5175\nEpoch 14/100\n2000/2000 [==============================] - 1s 289us/step - loss: 0.6918 - accuracy: 0.5225\nEpoch 15/100\n2000/2000 [==============================] - 1s 292us/step - loss: 0.6909 - accuracy: 0.5250\nEpoch 16/100\n2000/2000 [==============================] - 1s 292us/step - loss: 0.6908 - accuracy: 0.5210\nEpoch 17/100\n2000/2000 [==============================] - 1s 290us/step - loss: 0.6914 - accuracy: 0.5225\nEpoch 18/100\n2000/2000 [==============================] - 1s 296us/step - loss: 0.6912 - accuracy: 0.5190\nEpoch 19/100\n2000/2000 [==============================] - 1s 293us/step - loss: 0.6906 - accuracy: 0.5265\nEpoch 20/100\n2000/2000 [==============================] - 1s 295us/step - loss: 0.6918 - accuracy: 0.5155\nEpoch 21/100\n2000/2000 [==============================] - 1s 294us/step - loss: 0.6918 - accuracy: 0.5210\nEpoch 22/100\n2000/2000 [==============================] - 1s 291us/step - loss: 0.6907 - accuracy: 0.5285\nEpoch 23/100\n2000/2000 [==============================] - 1s 295us/step - loss: 0.6914 - accuracy: 0.5285\nEpoch 24/100\n2000/2000 [==============================] - 1s 289us/step - loss: 0.6912 - accuracy: 0.5235\nEpoch 25/100\n2000/2000 [==============================] - 1s 292us/step - loss: 0.6903 - accuracy: 0.5290\nEpoch 26/100\n2000/2000 [==============================] - 1s 293us/step - loss: 0.6913 - accuracy: 0.5270\nEpoch 27/100\n2000/2000 [==============================] - 1s 293us/step - loss: 0.6911 - accuracy: 0.5225\nEpoch 28/100\n2000/2000 [==============================] - 1s 292us/step - loss: 0.6909 - accuracy: 0.5230\nEpoch 29/100\n2000/2000 [==============================] - 1s 293us/step - loss: 0.6899 - accuracy: 0.5245\nEpoch 30/100\n2000/2000 [==============================] - 1s 292us/step - loss: 0.6891 - accuracy: 0.5295\nEpoch 31/100\n2000/2000 [==============================] - 1s 295us/step - loss: 0.6913 - accuracy: 0.5250\nEpoch 32/100\n2000/2000 [==============================] - 1s 291us/step - loss: 0.6906 - accuracy: 0.5235\nEpoch 33/100\n2000/2000 [==============================] - 1s 293us/step - loss: 0.6887 - accuracy: 0.5310\nEpoch 34/100\n2000/2000 [==============================] - 1s 293us/step - loss: 0.6914 - accuracy: 0.5135\nEpoch 35/100\n2000/2000 [==============================] - 1s 291us/step - loss: 0.6897 - accuracy: 0.5215\nEpoch 36/100\n2000/2000 [==============================] - 1s 296us/step - loss: 0.6903 - accuracy: 0.5295\nEpoch 37/100\n2000/2000 [==============================] - 1s 294us/step - loss: 0.6879 - accuracy: 0.5385\nEpoch 38/100\n2000/2000 [==============================] - 1s 289us/step - loss: 0.6882 - accuracy: 0.5310\nEpoch 39/100\n2000/2000 [==============================] - 1s 290us/step - loss: 0.6889 - accuracy: 0.5325\nEpoch 40/100\n2000/2000 [==============================] - 1s 295us/step - loss: 0.6877 - accuracy: 0.5295\nEpoch 41/100\n2000/2000 [==============================] - 1s 294us/step - loss: 0.6870 - accuracy: 0.5310\nEpoch 42/100\n2000/2000 [==============================] - 1s 288us/step - loss: 0.6868 - accuracy: 0.5365\nEpoch 43/100\n2000/2000 [==============================] - 1s 294us/step - loss: 0.6861 - accuracy: 0.5270\nEpoch 44/100\n2000/2000 [==============================] - 1s 293us/step - loss: 0.6866 - accuracy: 0.5350\nEpoch 45/100\n2000/2000 [==============================] - 1s 296us/step - loss: 0.6853 - accuracy: 0.5365\nEpoch 46/100\n2000/2000 [==============================] - 1s 291us/step - loss: 0.6845 - accuracy: 0.5485\nEpoch 47/100\n2000/2000 [==============================] - 1s 296us/step - loss: 0.6883 - accuracy: 0.5375\nEpoch 48/100\n2000/2000 [==============================] - 1s 293us/step - loss: 0.6870 - accuracy: 0.5325\nEpoch 49/100\n2000/2000 [==============================] - 1s 291us/step - loss: 0.6839 - accuracy: 0.5390\nEpoch 50/100\n2000/2000 [==============================] - 1s 296us/step - loss: 0.6857 - accuracy: 0.5360\nEpoch 51/100\n2000/2000 [==============================] - 1s 295us/step - loss: 0.6837 - accuracy: 0.5315\nEpoch 52/100\n2000/2000 [==============================] - 1s 291us/step - loss: 0.6864 - accuracy: 0.5280\nEpoch 53/100\n2000/2000 [==============================] - 1s 294us/step - loss: 0.6822 - accuracy: 0.5390\nEpoch 54/100\n2000/2000 [==============================] - 1s 295us/step - loss: 0.6834 - accuracy: 0.5355\nEpoch 55/100\n2000/2000 [==============================] - 1s 293us/step - loss: 0.6838 - accuracy: 0.5245\nEpoch 56/100\n2000/2000 [==============================] - 1s 291us/step - loss: 0.6845 - accuracy: 0.5375\nEpoch 57/100\n2000/2000 [==============================] - 1s 291us/step - loss: 0.6835 - accuracy: 0.5285\nEpoch 58/100\n2000/2000 [==============================] - 1s 292us/step - loss: 0.6827 - accuracy: 0.5450\nEpoch 59/100\n2000/2000 [==============================] - 1s 293us/step - loss: 0.6830 - accuracy: 0.5430\nEpoch 60/100\n2000/2000 [==============================] - 1s 291us/step - loss: 0.6810 - accuracy: 0.5460\nEpoch 61/100\n2000/2000 [==============================] - 1s 290us/step - loss: 0.6817 - accuracy: 0.5365\nEpoch 62/100\n2000/2000 [==============================] - 1s 290us/step - loss: 0.6806 - accuracy: 0.5410\nEpoch 63/100\n2000/2000 [==============================] - 1s 293us/step - loss: 0.6793 - accuracy: 0.5420\nEpoch 64/100\n2000/2000 [==============================] - 1s 291us/step - loss: 0.6799 - accuracy: 0.5510\nEpoch 65/100\n2000/2000 [==============================] - 1s 294us/step - loss: 0.6826 - accuracy: 0.5375\nEpoch 66/100\n2000/2000 [==============================] - 1s 288us/step - loss: 0.6806 - accuracy: 0.5490\nEpoch 67/100\n2000/2000 [==============================] - 1s 289us/step - loss: 0.6820 - accuracy: 0.5340\nEpoch 68/100\n2000/2000 [==============================] - 1s 286us/step - loss: 0.6796 - accuracy: 0.5505\nEpoch 69/100\n2000/2000 [==============================] - 1s 291us/step - loss: 0.6796 - accuracy: 0.5555\nEpoch 70/100\n2000/2000 [==============================] - 1s 289us/step - loss: 0.6791 - accuracy: 0.5550\nEpoch 71/100\n2000/2000 [==============================] - 1s 293us/step - loss: 0.6763 - accuracy: 0.5525\nEpoch 72/100\n2000/2000 [==============================] - 1s 293us/step - loss: 0.6771 - accuracy: 0.5560\nEpoch 73/100\n2000/2000 [==============================] - 1s 290us/step - loss: 0.6809 - accuracy: 0.5395\nEpoch 74/100\n2000/2000 [==============================] - 1s 290us/step - loss: 0.6787 - accuracy: 0.5640\nEpoch 75/100\n2000/2000 [==============================] - 1s 292us/step - loss: 0.6775 - accuracy: 0.5570\nEpoch 76/100\n2000/2000 [==============================] - 1s 291us/step - loss: 0.6772 - accuracy: 0.5545\nEpoch 77/100\n2000/2000 [==============================] - 1s 294us/step - loss: 0.6761 - accuracy: 0.5405\nEpoch 78/100\n2000/2000 [==============================] - 1s 290us/step - loss: 0.6756 - accuracy: 0.5520\nEpoch 79/100\n2000/2000 [==============================] - 1s 293us/step - loss: 0.6730 - accuracy: 0.5525\nEpoch 80/100\n2000/2000 [==============================] - 1s 294us/step - loss: 0.6742 - accuracy: 0.5455\nEpoch 81/100\n2000/2000 [==============================] - 1s 289us/step - loss: 0.6740 - accuracy: 0.5485\nEpoch 82/100\n2000/2000 [==============================] - 1s 289us/step - loss: 0.6713 - accuracy: 0.5605\nEpoch 83/100\n2000/2000 [==============================] - 1s 289us/step - loss: 0.6724 - accuracy: 0.5660\nEpoch 84/100\n2000/2000 [==============================] - 1s 289us/step - loss: 0.6787 - accuracy: 0.5385\nEpoch 85/100\n2000/2000 [==============================] - 1s 291us/step - loss: 0.6707 - accuracy: 0.5590\nEpoch 86/100\n2000/2000 [==============================] - 1s 291us/step - loss: 0.6717 - accuracy: 0.5425\nEpoch 87/100\n2000/2000 [==============================] - 1s 290us/step - loss: 0.6716 - accuracy: 0.5485\nEpoch 88/100\n2000/2000 [==============================] - 1s 294us/step - loss: 0.6680 - accuracy: 0.5655\nEpoch 89/100\n2000/2000 [==============================] - 1s 290us/step - loss: 0.6689 - accuracy: 0.5495\nEpoch 90/100\n2000/2000 [==============================] - 1s 283us/step - loss: 0.6704 - accuracy: 0.5660\nEpoch 91/100\n2000/2000 [==============================] - 1s 280us/step - loss: 0.6668 - accuracy: 0.5630\nEpoch 92/100\n2000/2000 [==============================] - 1s 284us/step - loss: 0.6681 - accuracy: 0.5560\nEpoch 93/100\n2000/2000 [==============================] - 1s 295us/step - loss: 0.6624 - accuracy: 0.5615\nEpoch 94/100\n2000/2000 [==============================] - 1s 293us/step - loss: 0.6716 - accuracy: 0.5595\nEpoch 95/100\n2000/2000 [==============================] - 1s 288us/step - loss: 0.6686 - accuracy: 0.5615\nEpoch 96/100\n2000/2000 [==============================] - 1s 291us/step - loss: 0.6700 - accuracy: 0.5495\nEpoch 97/100\n2000/2000 [==============================] - 1s 289us/step - loss: 0.6652 - accuracy: 0.5705\nEpoch 98/100\n2000/2000 [==============================] - 1s 290us/step - loss: 0.6666 - accuracy: 0.5750\nEpoch 99/100\n2000/2000 [==============================] - 1s 290us/step - loss: 0.6686 - accuracy: 0.5610\nEpoch 100/100\n2000/2000 [==============================] - 1s 293us/step - loss: 0.6648 - accuracy: 0.5620\n"
    },
    {
     "output_type": "execute_result",
     "data": {
      "text/plain": "<keras.callbacks.callbacks.History at 0x1432b469c48>"
     },
     "metadata": {},
     "execution_count": 6
    }
   ],
   "source": [
    "sample_len = 15\n",
    "train_begin = sample_len\n",
    "train_end = train_begin + 2000\n",
    "scaler = StandardScaler()\n",
    "train_set = df[['log_r','label']][train_begin-sample_len:train_end].reset_index()\n",
    "x_train, y_train = [], []\n",
    "x_train_set = list(chain.from_iterable(scaler.fit_transform(train_set['log_r'].values.reshape(-1,1))))\n",
    "for i in range(sample_len,len(x_train_set)):\n",
    "    x_train.append(x_train_set[i-sample_len:i])\n",
    "    y_train.append(train_set['label'][i])\n",
    "x_train, y_train = np.array(x_train), np.array(y_train)\n",
    "y_train = to_categorical(y_train,2)\n",
    "x_train = np.reshape(x_train, (x_train.shape[0],x_train.shape[1],1)) \n",
    "\n",
    "model = lstm_model(sample_len=sample_len)\n",
    "model.fit(x_train,y_train,epochs=100, batch_size=100, callbacks=[EarlyStopping(monitor='loss',patience=10)])"
   ]
  },
  {
   "cell_type": "code",
   "execution_count": 7,
   "metadata": {},
   "outputs": [],
   "source": [
    "model.save(f'd{sample_len}-{sample_len+2000}.h5')  # d日频，240-2240天"
   ]
  },
  {
   "cell_type": "code",
   "execution_count": null,
   "metadata": {},
   "outputs": [],
   "source": []
  }
 ],
 "metadata": {
  "language_info": {
   "codemirror_mode": {
    "name": "ipython",
    "version": 3
   },
   "file_extension": ".py",
   "mimetype": "text/x-python",
   "name": "python",
   "nbconvert_exporter": "python",
   "pygments_lexer": "ipython3",
   "version": "3.7.5-final"
  },
  "orig_nbformat": 2,
  "kernelspec": {
   "name": "python37564bit39c99c26652f4524b29e55ad15e6988f",
   "display_name": "Python 3.7.5 64-bit"
  }
 },
 "nbformat": 4,
 "nbformat_minor": 2
}